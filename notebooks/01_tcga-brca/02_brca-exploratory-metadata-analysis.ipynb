{
 "cells": [
  {
   "cell_type": "markdown",
   "metadata": {},
   "source": [
    "# **Exploratory Metadata Analysis of TCGA-BRCA**\n",
    "TCGA: The Cancer Genome Atlas  \n",
    "BRCA: Breast Invasive Carcinoma"
   ]
  },
  {
   "cell_type": "markdown",
   "metadata": {},
   "source": [
    "# Importing Libraries and Configurations"
   ]
  },
  {
   "cell_type": "code",
   "execution_count": 1,
   "metadata": {},
   "outputs": [],
   "source": [
    "import os\n",
    "import sys\n",
    "\n",
    "import pandas as pd\n",
    "\n",
    "# Add project root to Python's path\n",
    "sys.path.append(os.path.abspath(os.path.join('..', '..')))\n",
    "\n",
    "from config import BRCA_PROCESSED_FILES_PATHS"
   ]
  },
  {
   "cell_type": "markdown",
   "metadata": {},
   "source": [
    "# Loading and Preparing Data"
   ]
  },
  {
   "cell_type": "code",
   "execution_count": null,
   "metadata": {},
   "outputs": [],
   "source": [
    "# Dataframe with cases metadata\n",
    "df_cases = pd.read_csv(BRCA_PROCESSED_FILES_PATHS['cases'])\n",
    "\n",
    "# Dataframe with cases of interest metadata\n",
    "df_cases_of_interest = df_cases.query('is_case_of_interest == 1')\n",
    "\n",
    "# Dataframe with files metadata\n",
    "df_files = pd.read_csv(BRCA_PROCESSED_FILES_PATHS['files'])\n",
    "\n",
    "# Dataframe with files of interest metadata\n",
    "df_files_of_interest = df_files.query('is_file_of_interest == 1')\n",
    "\n",
    "# DataFrame with project metadata\n",
    "df_project = pd.read_csv(BRCA_PROCESSED_FILES_PATHS['project'])\n",
    "\n",
    "# DataFrame with files and cases\n",
    "df_files_and_cases = df_files \\\n",
    "    .merge(\n",
    "        right=df_cases,\n",
    "        left_on='case_id',\n",
    "        right_on='case_id',\n",
    "        how='inner'\n",
    "    )\n",
    "\n",
    "# DataFrame with files and cases of interest\n",
    "df_files_and_cases_of_interest = df_files_of_interest \\\n",
    "    .merge(\n",
    "        right=df_cases_of_interest,\n",
    "        left_on='case_id',\n",
    "        right_on='case_id',\n",
    "        how='inner'\n",
    "    )"
   ]
  },
  {
   "cell_type": "markdown",
   "metadata": {},
   "source": [
    "# Project Exploration"
   ]
  },
  {
   "cell_type": "code",
   "execution_count": 3,
   "metadata": {},
   "outputs": [
    {
     "data": {
      "text/html": [
       "<div>\n",
       "<style scoped>\n",
       "    .dataframe tbody tr th:only-of-type {\n",
       "        vertical-align: middle;\n",
       "    }\n",
       "\n",
       "    .dataframe tbody tr th {\n",
       "        vertical-align: top;\n",
       "    }\n",
       "\n",
       "    .dataframe thead th {\n",
       "        text-align: right;\n",
       "    }\n",
       "</style>\n",
       "<table border=\"1\" class=\"dataframe\">\n",
       "  <thead>\n",
       "    <tr style=\"text-align: right;\">\n",
       "      <th></th>\n",
       "      <th>project_id</th>\n",
       "      <th>project_name</th>\n",
       "      <th>primary_site</th>\n",
       "      <th>disease_type</th>\n",
       "      <th>experimental_strategies</th>\n",
       "      <th>data_categories</th>\n",
       "      <th>case_count</th>\n",
       "      <th>file_count</th>\n",
       "    </tr>\n",
       "  </thead>\n",
       "  <tbody>\n",
       "    <tr>\n",
       "      <th>0</th>\n",
       "      <td>TCGA-BRCA</td>\n",
       "      <td>Breast Invasive Carcinoma</td>\n",
       "      <td>['Breast']</td>\n",
       "      <td>['Epithelial Neoplasms, NOS', 'Adnexal and Skin Appendage Neoplasms', 'Squamous Cell Neoplasms', 'Adenomas and Adenocarcinomas', 'Complex Epithelial Neoplasms', 'Fibroepithelial Neoplasms', 'Cystic, Mucinous and Serous Neoplasms', 'Basal Cell Neoplasms', 'Ductal and Lobular Neoplasms']</td>\n",
       "      <td>[{'file_count': 11079, 'case_count': 1095, 'experimental_strategy': 'RNA-Seq'}, {'file_count': 17049, 'case_count': 1072, 'experimental_strategy': 'WXS'}, {'file_count': 3621, 'case_count': 1079, 'experimental_strategy': 'miRNA-Seq'}, {'file_count': 10572, 'case_count': 952, 'experimental_strategy': 'WGS'}, {'file_count': 75, 'case_count': 74, 'experimental_strategy': 'ATAC-Seq'}, {'file_count': 14329, 'case_count': 1098, 'experimental_strategy': 'Genotyping Array'}, {'file_count': 3714, 'case_count': 1097, 'experimental_strategy': 'Methylation Array'}, {'file_count': 919, 'case_count': 881, 'experimental_strategy': 'Reverse Phase Protein Array'}, {'file_count': 1133, 'case_count': 1062, 'experimental_strategy': 'Diagnostic Slide'}, {'file_count': 1978, 'case_count': 1093, 'experimental_strategy': 'Tissue Slide'}]</td>\n",
       "      <td>[{'file_count': 19753, 'case_count': 1098, 'data_category': 'Simple Nucleotide Variation'}, {'file_count': 9282, 'case_count': 1098, 'data_category': 'Sequencing Reads'}, {'file_count': 5316, 'case_count': 1098, 'data_category': 'Biospecimen'}, {'file_count': 2288, 'case_count': 1098, 'data_category': 'Clinical'}, {'file_count': 14346, 'case_count': 1098, 'data_category': 'Copy Number Variation'}, {'file_count': 4876, 'case_count': 1097, 'data_category': 'Transcriptome Profiling'}, {'file_count': 3714, 'case_count': 1097, 'data_category': 'DNA Methylation'}, {'file_count': 919, 'case_count': 881, 'data_category': 'Proteome Profiling'}, {'file_count': 2696, 'case_count': 784, 'data_category': 'Somatic Structural Variation'}, {'file_count': 5772, 'case_count': 1098, 'data_category': 'Structural Variation'}]</td>\n",
       "      <td>1098</td>\n",
       "      <td>68962</td>\n",
       "    </tr>\n",
       "  </tbody>\n",
       "</table>\n",
       "</div>"
      ],
      "text/plain": [
       "  project_id               project_name primary_site  \\\n",
       "0  TCGA-BRCA  Breast Invasive Carcinoma   ['Breast']   \n",
       "\n",
       "                                                                                                                                                                                                                                                                                     disease_type  \\\n",
       "0  ['Epithelial Neoplasms, NOS', 'Adnexal and Skin Appendage Neoplasms', 'Squamous Cell Neoplasms', 'Adenomas and Adenocarcinomas', 'Complex Epithelial Neoplasms', 'Fibroepithelial Neoplasms', 'Cystic, Mucinous and Serous Neoplasms', 'Basal Cell Neoplasms', 'Ductal and Lobular Neoplasms']   \n",
       "\n",
       "                                                                                                                                                                                                                                                                                                                                                                                                                                                                                                                                                                                                                                                                                                                                                                                                                                     experimental_strategies  \\\n",
       "0  [{'file_count': 11079, 'case_count': 1095, 'experimental_strategy': 'RNA-Seq'}, {'file_count': 17049, 'case_count': 1072, 'experimental_strategy': 'WXS'}, {'file_count': 3621, 'case_count': 1079, 'experimental_strategy': 'miRNA-Seq'}, {'file_count': 10572, 'case_count': 952, 'experimental_strategy': 'WGS'}, {'file_count': 75, 'case_count': 74, 'experimental_strategy': 'ATAC-Seq'}, {'file_count': 14329, 'case_count': 1098, 'experimental_strategy': 'Genotyping Array'}, {'file_count': 3714, 'case_count': 1097, 'experimental_strategy': 'Methylation Array'}, {'file_count': 919, 'case_count': 881, 'experimental_strategy': 'Reverse Phase Protein Array'}, {'file_count': 1133, 'case_count': 1062, 'experimental_strategy': 'Diagnostic Slide'}, {'file_count': 1978, 'case_count': 1093, 'experimental_strategy': 'Tissue Slide'}]   \n",
       "\n",
       "                                                                                                                                                                                                                                                                                                                                                                                                                                                                                                                                                                                                                                                                                                                                                                                                                                    data_categories  \\\n",
       "0  [{'file_count': 19753, 'case_count': 1098, 'data_category': 'Simple Nucleotide Variation'}, {'file_count': 9282, 'case_count': 1098, 'data_category': 'Sequencing Reads'}, {'file_count': 5316, 'case_count': 1098, 'data_category': 'Biospecimen'}, {'file_count': 2288, 'case_count': 1098, 'data_category': 'Clinical'}, {'file_count': 14346, 'case_count': 1098, 'data_category': 'Copy Number Variation'}, {'file_count': 4876, 'case_count': 1097, 'data_category': 'Transcriptome Profiling'}, {'file_count': 3714, 'case_count': 1097, 'data_category': 'DNA Methylation'}, {'file_count': 919, 'case_count': 881, 'data_category': 'Proteome Profiling'}, {'file_count': 2696, 'case_count': 784, 'data_category': 'Somatic Structural Variation'}, {'file_count': 5772, 'case_count': 1098, 'data_category': 'Structural Variation'}]   \n",
       "\n",
       "   case_count  file_count  \n",
       "0        1098       68962  "
      ]
     },
     "execution_count": 3,
     "metadata": {},
     "output_type": "execute_result"
    }
   ],
   "source": [
    "# Print the TCGA-BRCA project metadata DataFrame\n",
    "pd.set_option('display.max_colwidth', 900)\n",
    "df_project"
   ]
  },
  {
   "cell_type": "markdown",
   "metadata": {},
   "source": [
    "# Cases Exploration"
   ]
  },
  {
   "cell_type": "markdown",
   "metadata": {},
   "source": [
    "## All Cases"
   ]
  },
  {
   "cell_type": "code",
   "execution_count": 4,
   "metadata": {},
   "outputs": [
    {
     "name": "stdout",
     "output_type": "stream",
     "text": [
      "Number of distinct cases: 1098\n"
     ]
    }
   ],
   "source": [
    "# Count the number of distinct cases\n",
    "total_cases = df_cases['case_id'].nunique()\n",
    "print(f'Number of distinct cases: {total_cases}')"
   ]
  },
  {
   "cell_type": "code",
   "execution_count": 5,
   "metadata": {},
   "outputs": [
    {
     "data": {
      "text/html": [
       "<div>\n",
       "<style scoped>\n",
       "    .dataframe tbody tr th:only-of-type {\n",
       "        vertical-align: middle;\n",
       "    }\n",
       "\n",
       "    .dataframe tbody tr th {\n",
       "        vertical-align: top;\n",
       "    }\n",
       "\n",
       "    .dataframe thead th {\n",
       "        text-align: right;\n",
       "    }\n",
       "</style>\n",
       "<table border=\"1\" class=\"dataframe\">\n",
       "  <thead>\n",
       "    <tr style=\"text-align: right;\">\n",
       "      <th></th>\n",
       "      <th>cases</th>\n",
       "    </tr>\n",
       "    <tr>\n",
       "      <th>disease_type</th>\n",
       "      <th></th>\n",
       "    </tr>\n",
       "  </thead>\n",
       "  <tbody>\n",
       "    <tr>\n",
       "      <th>Ductal and Lobular Neoplasms</th>\n",
       "      <td>1054</td>\n",
       "    </tr>\n",
       "    <tr>\n",
       "      <th>Cystic, Mucinous and Serous Neoplasms</th>\n",
       "      <td>16</td>\n",
       "    </tr>\n",
       "    <tr>\n",
       "      <th>Complex Epithelial Neoplasms</th>\n",
       "      <td>14</td>\n",
       "    </tr>\n",
       "    <tr>\n",
       "      <th>Epithelial Neoplasms, NOS</th>\n",
       "      <td>5</td>\n",
       "    </tr>\n",
       "    <tr>\n",
       "      <th>Adenomas and Adenocarcinomas</th>\n",
       "      <td>3</td>\n",
       "    </tr>\n",
       "    <tr>\n",
       "      <th>Fibroepithelial Neoplasms</th>\n",
       "      <td>2</td>\n",
       "    </tr>\n",
       "    <tr>\n",
       "      <th>Squamous Cell Neoplasms</th>\n",
       "      <td>2</td>\n",
       "    </tr>\n",
       "    <tr>\n",
       "      <th>Adnexal and Skin Appendage Neoplasms</th>\n",
       "      <td>1</td>\n",
       "    </tr>\n",
       "    <tr>\n",
       "      <th>Basal Cell Neoplasms</th>\n",
       "      <td>1</td>\n",
       "    </tr>\n",
       "  </tbody>\n",
       "</table>\n",
       "</div>"
      ],
      "text/plain": [
       "                                       cases\n",
       "disease_type                                \n",
       "Ductal and Lobular Neoplasms            1054\n",
       "Cystic, Mucinous and Serous Neoplasms     16\n",
       "Complex Epithelial Neoplasms              14\n",
       "Epithelial Neoplasms, NOS                  5\n",
       "Adenomas and Adenocarcinomas               3\n",
       "Fibroepithelial Neoplasms                  2\n",
       "Squamous Cell Neoplasms                    2\n",
       "Adnexal and Skin Appendage Neoplasms       1\n",
       "Basal Cell Neoplasms                       1"
      ]
     },
     "execution_count": 5,
     "metadata": {},
     "output_type": "execute_result"
    }
   ],
   "source": [
    "# Count the number of cases associated with each disease type\n",
    "df_cases \\\n",
    "    .groupby('disease_type') \\\n",
    "    .agg(cases = pd.NamedAgg(column='case_id', aggfunc='nunique')) \\\n",
    "    .sort_values(by='cases', ascending=False)"
   ]
  },
  {
   "cell_type": "code",
   "execution_count": 6,
   "metadata": {},
   "outputs": [
    {
     "data": {
      "text/html": [
       "<div>\n",
       "<style scoped>\n",
       "    .dataframe tbody tr th:only-of-type {\n",
       "        vertical-align: middle;\n",
       "    }\n",
       "\n",
       "    .dataframe tbody tr th {\n",
       "        vertical-align: top;\n",
       "    }\n",
       "\n",
       "    .dataframe thead th {\n",
       "        text-align: right;\n",
       "    }\n",
       "</style>\n",
       "<table border=\"1\" class=\"dataframe\">\n",
       "  <thead>\n",
       "    <tr style=\"text-align: right;\">\n",
       "      <th></th>\n",
       "      <th>cases</th>\n",
       "    </tr>\n",
       "    <tr>\n",
       "      <th>pam50_mrna</th>\n",
       "      <th></th>\n",
       "    </tr>\n",
       "  </thead>\n",
       "  <tbody>\n",
       "    <tr>\n",
       "      <th>Luminal A</th>\n",
       "      <td>231</td>\n",
       "    </tr>\n",
       "    <tr>\n",
       "      <th>Luminal B</th>\n",
       "      <td>127</td>\n",
       "    </tr>\n",
       "    <tr>\n",
       "      <th>Basal-like</th>\n",
       "      <td>98</td>\n",
       "    </tr>\n",
       "    <tr>\n",
       "      <th>HER2-enriched</th>\n",
       "      <td>58</td>\n",
       "    </tr>\n",
       "  </tbody>\n",
       "</table>\n",
       "</div>"
      ],
      "text/plain": [
       "               cases\n",
       "pam50_mrna          \n",
       "Luminal A        231\n",
       "Luminal B        127\n",
       "Basal-like        98\n",
       "HER2-enriched     58"
      ]
     },
     "execution_count": 6,
     "metadata": {},
     "output_type": "execute_result"
    }
   ],
   "source": [
    "# Count the number of cases associated with each molecular subtype\n",
    "df_cases \\\n",
    "    .groupby('pam50_mrna') \\\n",
    "    .agg(cases = pd.NamedAgg(column='case_id', aggfunc='nunique')) \\\n",
    "    .sort_values(by='cases', ascending=False)"
   ]
  },
  {
   "cell_type": "code",
   "execution_count": 7,
   "metadata": {},
   "outputs": [
    {
     "data": {
      "text/html": [
       "<div>\n",
       "<style scoped>\n",
       "    .dataframe tbody tr th:only-of-type {\n",
       "        vertical-align: middle;\n",
       "    }\n",
       "\n",
       "    .dataframe tbody tr th {\n",
       "        vertical-align: top;\n",
       "    }\n",
       "\n",
       "    .dataframe thead th {\n",
       "        text-align: right;\n",
       "    }\n",
       "</style>\n",
       "<table border=\"1\" class=\"dataframe\">\n",
       "  <thead>\n",
       "    <tr style=\"text-align: right;\">\n",
       "      <th></th>\n",
       "      <th></th>\n",
       "      <th>cases</th>\n",
       "    </tr>\n",
       "    <tr>\n",
       "      <th>pam50_mrna</th>\n",
       "      <th>disease_type</th>\n",
       "      <th></th>\n",
       "    </tr>\n",
       "  </thead>\n",
       "  <tbody>\n",
       "    <tr>\n",
       "      <th rowspan=\"3\" valign=\"top\">Basal-like</th>\n",
       "      <th>Epithelial Neoplasms, NOS</th>\n",
       "      <td>1</td>\n",
       "    </tr>\n",
       "    <tr>\n",
       "      <th>Complex Epithelial Neoplasms</th>\n",
       "      <td>2</td>\n",
       "    </tr>\n",
       "    <tr>\n",
       "      <th>Ductal and Lobular Neoplasms</th>\n",
       "      <td>95</td>\n",
       "    </tr>\n",
       "    <tr>\n",
       "      <th rowspan=\"2\" valign=\"top\">HER2-enriched</th>\n",
       "      <th>Adnexal and Skin Appendage Neoplasms</th>\n",
       "      <td>1</td>\n",
       "    </tr>\n",
       "    <tr>\n",
       "      <th>Ductal and Lobular Neoplasms</th>\n",
       "      <td>57</td>\n",
       "    </tr>\n",
       "    <tr>\n",
       "      <th rowspan=\"4\" valign=\"top\">Luminal A</th>\n",
       "      <th>Adenomas and Adenocarcinomas</th>\n",
       "      <td>1</td>\n",
       "    </tr>\n",
       "    <tr>\n",
       "      <th>Epithelial Neoplasms, NOS</th>\n",
       "      <td>1</td>\n",
       "    </tr>\n",
       "    <tr>\n",
       "      <th>Squamous Cell Neoplasms</th>\n",
       "      <td>1</td>\n",
       "    </tr>\n",
       "    <tr>\n",
       "      <th>Ductal and Lobular Neoplasms</th>\n",
       "      <td>228</td>\n",
       "    </tr>\n",
       "    <tr>\n",
       "      <th rowspan=\"2\" valign=\"top\">Luminal B</th>\n",
       "      <th>Cystic, Mucinous and Serous Neoplasms</th>\n",
       "      <td>2</td>\n",
       "    </tr>\n",
       "    <tr>\n",
       "      <th>Ductal and Lobular Neoplasms</th>\n",
       "      <td>125</td>\n",
       "    </tr>\n",
       "  </tbody>\n",
       "</table>\n",
       "</div>"
      ],
      "text/plain": [
       "                                                     cases\n",
       "pam50_mrna    disease_type                                \n",
       "Basal-like    Epithelial Neoplasms, NOS                  1\n",
       "              Complex Epithelial Neoplasms               2\n",
       "              Ductal and Lobular Neoplasms              95\n",
       "HER2-enriched Adnexal and Skin Appendage Neoplasms       1\n",
       "              Ductal and Lobular Neoplasms              57\n",
       "Luminal A     Adenomas and Adenocarcinomas               1\n",
       "              Epithelial Neoplasms, NOS                  1\n",
       "              Squamous Cell Neoplasms                    1\n",
       "              Ductal and Lobular Neoplasms             228\n",
       "Luminal B     Cystic, Mucinous and Serous Neoplasms      2\n",
       "              Ductal and Lobular Neoplasms             125"
      ]
     },
     "execution_count": 7,
     "metadata": {},
     "output_type": "execute_result"
    }
   ],
   "source": [
    "# Count the number of cases associated with each subtype and disease\n",
    "df_cases \\\n",
    "    .groupby(['pam50_mrna', 'disease_type']) \\\n",
    "    .agg(cases = pd.NamedAgg(column='case_id', aggfunc='nunique')) \\\n",
    "    .sort_values(by=['pam50_mrna', 'cases'], ascending=True)"
   ]
  },
  {
   "cell_type": "markdown",
   "metadata": {},
   "source": [
    "## Cases of Interest"
   ]
  },
  {
   "cell_type": "code",
   "execution_count": 8,
   "metadata": {},
   "outputs": [
    {
     "name": "stdout",
     "output_type": "stream",
     "text": [
      "Number of distinct cases of interest: 488\n"
     ]
    }
   ],
   "source": [
    "# Count the number of distinct cases\n",
    "total_cases = df_cases_of_interest['case_id'].nunique()\n",
    "print(f'Number of distinct cases of interest: {total_cases}')"
   ]
  },
  {
   "cell_type": "code",
   "execution_count": 9,
   "metadata": {},
   "outputs": [
    {
     "data": {
      "text/html": [
       "<div>\n",
       "<style scoped>\n",
       "    .dataframe tbody tr th:only-of-type {\n",
       "        vertical-align: middle;\n",
       "    }\n",
       "\n",
       "    .dataframe tbody tr th {\n",
       "        vertical-align: top;\n",
       "    }\n",
       "\n",
       "    .dataframe thead th {\n",
       "        text-align: right;\n",
       "    }\n",
       "</style>\n",
       "<table border=\"1\" class=\"dataframe\">\n",
       "  <thead>\n",
       "    <tr style=\"text-align: right;\">\n",
       "      <th></th>\n",
       "      <th>cases</th>\n",
       "    </tr>\n",
       "    <tr>\n",
       "      <th>disease_type</th>\n",
       "      <th></th>\n",
       "    </tr>\n",
       "  </thead>\n",
       "  <tbody>\n",
       "    <tr>\n",
       "      <th>Ductal and Lobular Neoplasms</th>\n",
       "      <td>488</td>\n",
       "    </tr>\n",
       "  </tbody>\n",
       "</table>\n",
       "</div>"
      ],
      "text/plain": [
       "                              cases\n",
       "disease_type                       \n",
       "Ductal and Lobular Neoplasms    488"
      ]
     },
     "execution_count": 9,
     "metadata": {},
     "output_type": "execute_result"
    }
   ],
   "source": [
    "# Count the number of cases associated with each disease type\n",
    "df_cases_of_interest \\\n",
    "    .groupby('disease_type') \\\n",
    "    .agg(cases = pd.NamedAgg(column='case_id', aggfunc='nunique')) \\\n",
    "    .sort_values(by='cases', ascending=False)"
   ]
  },
  {
   "cell_type": "code",
   "execution_count": 10,
   "metadata": {},
   "outputs": [
    {
     "data": {
      "text/html": [
       "<div>\n",
       "<style scoped>\n",
       "    .dataframe tbody tr th:only-of-type {\n",
       "        vertical-align: middle;\n",
       "    }\n",
       "\n",
       "    .dataframe tbody tr th {\n",
       "        vertical-align: top;\n",
       "    }\n",
       "\n",
       "    .dataframe thead th {\n",
       "        text-align: right;\n",
       "    }\n",
       "</style>\n",
       "<table border=\"1\" class=\"dataframe\">\n",
       "  <thead>\n",
       "    <tr style=\"text-align: right;\">\n",
       "      <th></th>\n",
       "      <th>cases</th>\n",
       "      <th>tumor_cases</th>\n",
       "      <th>normal_cases</th>\n",
       "    </tr>\n",
       "    <tr>\n",
       "      <th>pam50_mrna</th>\n",
       "      <th></th>\n",
       "      <th></th>\n",
       "      <th></th>\n",
       "    </tr>\n",
       "  </thead>\n",
       "  <tbody>\n",
       "    <tr>\n",
       "      <th>Luminal A</th>\n",
       "      <td>224</td>\n",
       "      <td>223</td>\n",
       "      <td>29</td>\n",
       "    </tr>\n",
       "    <tr>\n",
       "      <th>Luminal B</th>\n",
       "      <td>120</td>\n",
       "      <td>120</td>\n",
       "      <td>14</td>\n",
       "    </tr>\n",
       "    <tr>\n",
       "      <th>Basal-like</th>\n",
       "      <td>88</td>\n",
       "      <td>87</td>\n",
       "      <td>8</td>\n",
       "    </tr>\n",
       "    <tr>\n",
       "      <th>HER2-enriched</th>\n",
       "      <td>56</td>\n",
       "      <td>56</td>\n",
       "      <td>5</td>\n",
       "    </tr>\n",
       "  </tbody>\n",
       "</table>\n",
       "</div>"
      ],
      "text/plain": [
       "               cases  tumor_cases  normal_cases\n",
       "pam50_mrna                                     \n",
       "Luminal A        224          223            29\n",
       "Luminal B        120          120            14\n",
       "Basal-like        88           87             8\n",
       "HER2-enriched     56           56             5"
      ]
     },
     "execution_count": 10,
     "metadata": {},
     "output_type": "execute_result"
    }
   ],
   "source": [
    "# Count the number of cases associated with each molecular subtype\n",
    "df_cases_of_interest \\\n",
    "    .groupby('pam50_mrna') \\\n",
    "    .agg(\n",
    "        cases = pd.NamedAgg(column='case_id', aggfunc='nunique'),\n",
    "        tumor_cases = pd.NamedAgg(\n",
    "            column='has_tumor_files_of_interest', aggfunc='sum'\n",
    "        ),\n",
    "        normal_cases = pd.NamedAgg(\n",
    "            column='has_normal_files_of_interest', aggfunc='sum'\n",
    "        ),\n",
    "    ) \\\n",
    "    .sort_values(by='cases', ascending=False)"
   ]
  },
  {
   "cell_type": "code",
   "execution_count": 11,
   "metadata": {},
   "outputs": [
    {
     "name": "stdout",
     "output_type": "stream",
     "text": [
      "Number of cases associated with tumor tissue analysis: 486\n"
     ]
    }
   ],
   "source": [
    "# Count the number of cases associated with tumor tissue analysis\n",
    "total_cases = df_cases_of_interest['has_tumor_files_of_interest'].sum()\n",
    "print(f'Number of cases associated with tumor tissue analysis: {total_cases}')"
   ]
  },
  {
   "cell_type": "code",
   "execution_count": 12,
   "metadata": {},
   "outputs": [
    {
     "name": "stdout",
     "output_type": "stream",
     "text": [
      "Number of cases associated with paired normal tissue analysis: 56\n"
     ]
    }
   ],
   "source": [
    "# Count the number of cases associated with normal tissue analysis\n",
    "total_cases = df_cases_of_interest['has_normal_files_of_interest'].sum()\n",
    "print(f'Number of cases associated with paired normal tissue analysis: {total_cases}')"
   ]
  },
  {
   "cell_type": "markdown",
   "metadata": {},
   "source": [
    "# Files Exploration"
   ]
  },
  {
   "cell_type": "markdown",
   "metadata": {},
   "source": [
    "## All Files"
   ]
  },
  {
   "cell_type": "code",
   "execution_count": 13,
   "metadata": {},
   "outputs": [
    {
     "name": "stdout",
     "output_type": "stream",
     "text": [
      "Number of distinct files: 68962\n"
     ]
    }
   ],
   "source": [
    "# Count the number of distinct files\n",
    "total_files = df_files['file_id'].nunique()\n",
    "print(f'Number of distinct files: {total_files}')"
   ]
  },
  {
   "cell_type": "code",
   "execution_count": 14,
   "metadata": {},
   "outputs": [
    {
     "data": {
      "text/html": [
       "<div>\n",
       "<style scoped>\n",
       "    .dataframe tbody tr th:only-of-type {\n",
       "        vertical-align: middle;\n",
       "    }\n",
       "\n",
       "    .dataframe tbody tr th {\n",
       "        vertical-align: top;\n",
       "    }\n",
       "\n",
       "    .dataframe thead th {\n",
       "        text-align: right;\n",
       "    }\n",
       "</style>\n",
       "<table border=\"1\" class=\"dataframe\">\n",
       "  <thead>\n",
       "    <tr style=\"text-align: right;\">\n",
       "      <th></th>\n",
       "      <th>files</th>\n",
       "    </tr>\n",
       "    <tr>\n",
       "      <th>experimental_strategy</th>\n",
       "      <th></th>\n",
       "    </tr>\n",
       "  </thead>\n",
       "  <tbody>\n",
       "    <tr>\n",
       "      <th>WXS</th>\n",
       "      <td>17049</td>\n",
       "    </tr>\n",
       "    <tr>\n",
       "      <th>Genotyping Array</th>\n",
       "      <td>14329</td>\n",
       "    </tr>\n",
       "    <tr>\n",
       "      <th>RNA-Seq</th>\n",
       "      <td>11079</td>\n",
       "    </tr>\n",
       "    <tr>\n",
       "      <th>WGS</th>\n",
       "      <td>10572</td>\n",
       "    </tr>\n",
       "    <tr>\n",
       "      <th>Methylation Array</th>\n",
       "      <td>3714</td>\n",
       "    </tr>\n",
       "    <tr>\n",
       "      <th>miRNA-Seq</th>\n",
       "      <td>3621</td>\n",
       "    </tr>\n",
       "    <tr>\n",
       "      <th>Tissue Slide</th>\n",
       "      <td>1978</td>\n",
       "    </tr>\n",
       "    <tr>\n",
       "      <th>Diagnostic Slide</th>\n",
       "      <td>1133</td>\n",
       "    </tr>\n",
       "    <tr>\n",
       "      <th>Reverse Phase Protein Array</th>\n",
       "      <td>919</td>\n",
       "    </tr>\n",
       "    <tr>\n",
       "      <th>ATAC-Seq</th>\n",
       "      <td>75</td>\n",
       "    </tr>\n",
       "  </tbody>\n",
       "</table>\n",
       "</div>"
      ],
      "text/plain": [
       "                             files\n",
       "experimental_strategy             \n",
       "WXS                          17049\n",
       "Genotyping Array             14329\n",
       "RNA-Seq                      11079\n",
       "WGS                          10572\n",
       "Methylation Array             3714\n",
       "miRNA-Seq                     3621\n",
       "Tissue Slide                  1978\n",
       "Diagnostic Slide              1133\n",
       "Reverse Phase Protein Array    919\n",
       "ATAC-Seq                        75"
      ]
     },
     "execution_count": 14,
     "metadata": {},
     "output_type": "execute_result"
    }
   ],
   "source": [
    "# Count the number of files associated with each experimental strategy\n",
    "df_files \\\n",
    "    .groupby('experimental_strategy') \\\n",
    "    .agg(files = pd.NamedAgg(column='file_id', aggfunc='nunique')) \\\n",
    "    .sort_values(by='files', ascending=False)"
   ]
  },
  {
   "cell_type": "code",
   "execution_count": 15,
   "metadata": {},
   "outputs": [
    {
     "data": {
      "text/html": [
       "<div>\n",
       "<style scoped>\n",
       "    .dataframe tbody tr th:only-of-type {\n",
       "        vertical-align: middle;\n",
       "    }\n",
       "\n",
       "    .dataframe tbody tr th {\n",
       "        vertical-align: top;\n",
       "    }\n",
       "\n",
       "    .dataframe thead th {\n",
       "        text-align: right;\n",
       "    }\n",
       "</style>\n",
       "<table border=\"1\" class=\"dataframe\">\n",
       "  <thead>\n",
       "    <tr style=\"text-align: right;\">\n",
       "      <th></th>\n",
       "      <th></th>\n",
       "      <th></th>\n",
       "      <th></th>\n",
       "      <th>files</th>\n",
       "    </tr>\n",
       "    <tr>\n",
       "      <th>experimental_strategy</th>\n",
       "      <th>access</th>\n",
       "      <th>data_type</th>\n",
       "      <th>data_format</th>\n",
       "      <th></th>\n",
       "    </tr>\n",
       "  </thead>\n",
       "  <tbody>\n",
       "    <tr>\n",
       "      <th>ATAC-Seq</th>\n",
       "      <th>controlled</th>\n",
       "      <th>Aligned Reads</th>\n",
       "      <th>BAM</th>\n",
       "      <td>75</td>\n",
       "    </tr>\n",
       "    <tr>\n",
       "      <th>Diagnostic Slide</th>\n",
       "      <th>open</th>\n",
       "      <th>Slide Image</th>\n",
       "      <th>SVS</th>\n",
       "      <td>1133</td>\n",
       "    </tr>\n",
       "    <tr>\n",
       "      <th rowspan=\"6\" valign=\"top\">Genotyping Array</th>\n",
       "      <th rowspan=\"2\" valign=\"top\">controlled</th>\n",
       "      <th>Raw Intensities</th>\n",
       "      <th>CEL</th>\n",
       "      <td>2263</td>\n",
       "    </tr>\n",
       "    <tr>\n",
       "      <th>Simple Germline Variation</th>\n",
       "      <th>TSV</th>\n",
       "      <td>2263</td>\n",
       "    </tr>\n",
       "    <tr>\n",
       "      <th rowspan=\"4\" valign=\"top\">open</th>\n",
       "      <th>Allele-specific Copy Number Segment</th>\n",
       "      <th>TXT</th>\n",
       "      <td>2144</td>\n",
       "    </tr>\n",
       "    <tr>\n",
       "      <th>Copy Number Segment</th>\n",
       "      <th>TXT</th>\n",
       "      <td>2229</td>\n",
       "    </tr>\n",
       "    <tr>\n",
       "      <th>Masked Copy Number Segment</th>\n",
       "      <th>TXT</th>\n",
       "      <td>2229</td>\n",
       "    </tr>\n",
       "    <tr>\n",
       "      <th>Gene Level Copy Number</th>\n",
       "      <th>TSV</th>\n",
       "      <td>3201</td>\n",
       "    </tr>\n",
       "    <tr>\n",
       "      <th rowspan=\"2\" valign=\"top\">Methylation Array</th>\n",
       "      <th rowspan=\"2\" valign=\"top\">open</th>\n",
       "      <th>Methylation Beta Value</th>\n",
       "      <th>TXT</th>\n",
       "      <td>1238</td>\n",
       "    </tr>\n",
       "    <tr>\n",
       "      <th>Masked Intensities</th>\n",
       "      <th>IDAT</th>\n",
       "      <td>2476</td>\n",
       "    </tr>\n",
       "    <tr>\n",
       "      <th rowspan=\"5\" valign=\"top\">RNA-Seq</th>\n",
       "      <th rowspan=\"4\" valign=\"top\">controlled</th>\n",
       "      <th>Splice Junction Quantification</th>\n",
       "      <th>TSV</th>\n",
       "      <td>1231</td>\n",
       "    </tr>\n",
       "    <tr>\n",
       "      <th rowspan=\"2\" valign=\"top\">Transcript Fusion</th>\n",
       "      <th>BEDPE</th>\n",
       "      <td>2462</td>\n",
       "    </tr>\n",
       "    <tr>\n",
       "      <th>TSV</th>\n",
       "      <td>2462</td>\n",
       "    </tr>\n",
       "    <tr>\n",
       "      <th>Aligned Reads</th>\n",
       "      <th>BAM</th>\n",
       "      <td>3693</td>\n",
       "    </tr>\n",
       "    <tr>\n",
       "      <th>open</th>\n",
       "      <th>Gene Expression Quantification</th>\n",
       "      <th>TSV</th>\n",
       "      <td>1231</td>\n",
       "    </tr>\n",
       "    <tr>\n",
       "      <th>Reverse Phase Protein Array</th>\n",
       "      <th>open</th>\n",
       "      <th>Protein Expression Quantification</th>\n",
       "      <th>TSV</th>\n",
       "      <td>919</td>\n",
       "    </tr>\n",
       "    <tr>\n",
       "      <th>Tissue Slide</th>\n",
       "      <th>open</th>\n",
       "      <th>Slide Image</th>\n",
       "      <th>SVS</th>\n",
       "      <td>1978</td>\n",
       "    </tr>\n",
       "    <tr>\n",
       "      <th rowspan=\"8\" valign=\"top\">WGS</th>\n",
       "      <th rowspan=\"6\" valign=\"top\">controlled</th>\n",
       "      <th>Intermediate Analysis Archive</th>\n",
       "      <th>TAR</th>\n",
       "      <td>1027</td>\n",
       "    </tr>\n",
       "    <tr>\n",
       "      <th>Annotated Somatic Mutation</th>\n",
       "      <th>VCF</th>\n",
       "      <td>1208</td>\n",
       "    </tr>\n",
       "    <tr>\n",
       "      <th>Raw Simple Somatic Mutation</th>\n",
       "      <th>VCF</th>\n",
       "      <td>1434</td>\n",
       "    </tr>\n",
       "    <tr>\n",
       "      <th rowspan=\"2\" valign=\"top\">Structural Rearrangement</th>\n",
       "      <th>BEDPE</th>\n",
       "      <td>1772</td>\n",
       "    </tr>\n",
       "    <tr>\n",
       "      <th>VCF</th>\n",
       "      <td>1772</td>\n",
       "    </tr>\n",
       "    <tr>\n",
       "      <th>Aligned Reads</th>\n",
       "      <th>BAM</th>\n",
       "      <td>2106</td>\n",
       "    </tr>\n",
       "    <tr>\n",
       "      <th rowspan=\"2\" valign=\"top\">open</th>\n",
       "      <th>Gene Level Copy Number</th>\n",
       "      <th>TSV</th>\n",
       "      <td>113</td>\n",
       "    </tr>\n",
       "    <tr>\n",
       "      <th>Copy Number Segment</th>\n",
       "      <th>TXT</th>\n",
       "      <td>1140</td>\n",
       "    </tr>\n",
       "    <tr>\n",
       "      <th rowspan=\"6\" valign=\"top\">WXS</th>\n",
       "      <th rowspan=\"5\" valign=\"top\">controlled</th>\n",
       "      <th>Aggregated Somatic Mutation</th>\n",
       "      <th>MAF</th>\n",
       "      <td>992</td>\n",
       "    </tr>\n",
       "    <tr>\n",
       "      <th>Aligned Reads</th>\n",
       "      <th>BAM</th>\n",
       "      <td>2201</td>\n",
       "    </tr>\n",
       "    <tr>\n",
       "      <th rowspan=\"2\" valign=\"top\">Annotated Somatic Mutation</th>\n",
       "      <th>MAF</th>\n",
       "      <td>4288</td>\n",
       "    </tr>\n",
       "    <tr>\n",
       "      <th>VCF</th>\n",
       "      <td>4288</td>\n",
       "    </tr>\n",
       "    <tr>\n",
       "      <th>Raw Simple Somatic Mutation</th>\n",
       "      <th>VCF</th>\n",
       "      <td>4288</td>\n",
       "    </tr>\n",
       "    <tr>\n",
       "      <th>open</th>\n",
       "      <th>Masked Somatic Mutation</th>\n",
       "      <th>MAF</th>\n",
       "      <td>992</td>\n",
       "    </tr>\n",
       "    <tr>\n",
       "      <th rowspan=\"3\" valign=\"top\">miRNA-Seq</th>\n",
       "      <th>controlled</th>\n",
       "      <th>Aligned Reads</th>\n",
       "      <th>BAM</th>\n",
       "      <td>1207</td>\n",
       "    </tr>\n",
       "    <tr>\n",
       "      <th rowspan=\"2\" valign=\"top\">open</th>\n",
       "      <th>Isoform Expression Quantification</th>\n",
       "      <th>TXT</th>\n",
       "      <td>1207</td>\n",
       "    </tr>\n",
       "    <tr>\n",
       "      <th>miRNA Expression Quantification</th>\n",
       "      <th>TXT</th>\n",
       "      <td>1207</td>\n",
       "    </tr>\n",
       "  </tbody>\n",
       "</table>\n",
       "</div>"
      ],
      "text/plain": [
       "                                                                                        files\n",
       "experimental_strategy       access     data_type                           data_format       \n",
       "ATAC-Seq                    controlled Aligned Reads                       BAM             75\n",
       "Diagnostic Slide            open       Slide Image                         SVS           1133\n",
       "Genotyping Array            controlled Raw Intensities                     CEL           2263\n",
       "                                       Simple Germline Variation           TSV           2263\n",
       "                            open       Allele-specific Copy Number Segment TXT           2144\n",
       "                                       Copy Number Segment                 TXT           2229\n",
       "                                       Masked Copy Number Segment          TXT           2229\n",
       "                                       Gene Level Copy Number              TSV           3201\n",
       "Methylation Array           open       Methylation Beta Value              TXT           1238\n",
       "                                       Masked Intensities                  IDAT          2476\n",
       "RNA-Seq                     controlled Splice Junction Quantification      TSV           1231\n",
       "                                       Transcript Fusion                   BEDPE         2462\n",
       "                                                                           TSV           2462\n",
       "                                       Aligned Reads                       BAM           3693\n",
       "                            open       Gene Expression Quantification      TSV           1231\n",
       "Reverse Phase Protein Array open       Protein Expression Quantification   TSV            919\n",
       "Tissue Slide                open       Slide Image                         SVS           1978\n",
       "WGS                         controlled Intermediate Analysis Archive       TAR           1027\n",
       "                                       Annotated Somatic Mutation          VCF           1208\n",
       "                                       Raw Simple Somatic Mutation         VCF           1434\n",
       "                                       Structural Rearrangement            BEDPE         1772\n",
       "                                                                           VCF           1772\n",
       "                                       Aligned Reads                       BAM           2106\n",
       "                            open       Gene Level Copy Number              TSV            113\n",
       "                                       Copy Number Segment                 TXT           1140\n",
       "WXS                         controlled Aggregated Somatic Mutation         MAF            992\n",
       "                                       Aligned Reads                       BAM           2201\n",
       "                                       Annotated Somatic Mutation          MAF           4288\n",
       "                                                                           VCF           4288\n",
       "                                       Raw Simple Somatic Mutation         VCF           4288\n",
       "                            open       Masked Somatic Mutation             MAF            992\n",
       "miRNA-Seq                   controlled Aligned Reads                       BAM           1207\n",
       "                            open       Isoform Expression Quantification   TXT           1207\n",
       "                                       miRNA Expression Quantification     TXT           1207"
      ]
     },
     "execution_count": 15,
     "metadata": {},
     "output_type": "execute_result"
    }
   ],
   "source": [
    "# Count the number of data types associated with files\n",
    "df_files \\\n",
    "    .groupby([\n",
    "        'experimental_strategy', 'access', 'data_type', 'data_format',\n",
    "    ]) \\\n",
    "    .agg(files = pd.NamedAgg(column='file_id', aggfunc='nunique')) \\\n",
    "    .sort_values(by=['experimental_strategy', 'access', 'files'])"
   ]
  },
  {
   "cell_type": "markdown",
   "metadata": {},
   "source": [
    "## Files of Interest"
   ]
  },
  {
   "cell_type": "code",
   "execution_count": 16,
   "metadata": {},
   "outputs": [
    {
     "name": "stdout",
     "output_type": "stream",
     "text": [
      "Number of distinct files: 1084\n"
     ]
    }
   ],
   "source": [
    "# Count the number of distinct files\n",
    "total_files = df_files_of_interest['file_id'].nunique()\n",
    "print(f'Number of distinct files: {total_files}')"
   ]
  },
  {
   "cell_type": "code",
   "execution_count": 17,
   "metadata": {},
   "outputs": [
    {
     "data": {
      "text/html": [
       "<div>\n",
       "<style scoped>\n",
       "    .dataframe tbody tr th:only-of-type {\n",
       "        vertical-align: middle;\n",
       "    }\n",
       "\n",
       "    .dataframe tbody tr th {\n",
       "        vertical-align: top;\n",
       "    }\n",
       "\n",
       "    .dataframe thead th {\n",
       "        text-align: right;\n",
       "    }\n",
       "</style>\n",
       "<table border=\"1\" class=\"dataframe\">\n",
       "  <thead>\n",
       "    <tr style=\"text-align: right;\">\n",
       "      <th></th>\n",
       "      <th>files</th>\n",
       "      <th>tumor_files</th>\n",
       "      <th>normal_files</th>\n",
       "    </tr>\n",
       "    <tr>\n",
       "      <th>experimental_strategy</th>\n",
       "      <th></th>\n",
       "      <th></th>\n",
       "      <th></th>\n",
       "    </tr>\n",
       "  </thead>\n",
       "  <tbody>\n",
       "    <tr>\n",
       "      <th>RNA-Seq</th>\n",
       "      <td>542</td>\n",
       "      <td>486</td>\n",
       "      <td>56</td>\n",
       "    </tr>\n",
       "    <tr>\n",
       "      <th>miRNA-Seq</th>\n",
       "      <td>542</td>\n",
       "      <td>486</td>\n",
       "      <td>56</td>\n",
       "    </tr>\n",
       "  </tbody>\n",
       "</table>\n",
       "</div>"
      ],
      "text/plain": [
       "                       files  tumor_files  normal_files\n",
       "experimental_strategy                                  \n",
       "RNA-Seq                  542          486            56\n",
       "miRNA-Seq                542          486            56"
      ]
     },
     "execution_count": 17,
     "metadata": {},
     "output_type": "execute_result"
    }
   ],
   "source": [
    "# Count the number of files associated with each experimental strategy\n",
    "df_files_of_interest \\\n",
    "    .groupby('experimental_strategy') \\\n",
    "    .agg(\n",
    "        files = pd.NamedAgg(column='file_id', aggfunc='nunique'),\n",
    "        tumor_files = pd.NamedAgg(\n",
    "            column='is_tumor_file_of_interest', aggfunc='sum'\n",
    "        ),\n",
    "        normal_files = pd.NamedAgg(\n",
    "            column='is_normal_file_of_interest', aggfunc='sum'\n",
    "        ),\n",
    "    ) \\\n",
    "    .sort_values(by='files', ascending=False)"
   ]
  },
  {
   "cell_type": "code",
   "execution_count": 18,
   "metadata": {},
   "outputs": [
    {
     "name": "stdout",
     "output_type": "stream",
     "text": [
      "Number of files associated with tumor tissue analysis: 972\n"
     ]
    }
   ],
   "source": [
    "# Count the number of files associated with tumor tissue analysis\n",
    "total_files = df_files_of_interest['is_tumor_file_of_interest'].sum()\n",
    "print(f'Number of files associated with tumor tissue analysis: {total_files}')"
   ]
  },
  {
   "cell_type": "code",
   "execution_count": 19,
   "metadata": {},
   "outputs": [
    {
     "name": "stdout",
     "output_type": "stream",
     "text": [
      "Number of files associated with paired normal tissue analysis: 112\n"
     ]
    }
   ],
   "source": [
    "# Count the number of files associated with normal tissue analysis\n",
    "total_files = df_files_of_interest['is_normal_file_of_interest'].sum()\n",
    "print(f'Number of files associated with paired normal tissue analysis: {total_files}')"
   ]
  },
  {
   "cell_type": "code",
   "execution_count": 20,
   "metadata": {},
   "outputs": [
    {
     "data": {
      "text/html": [
       "<div>\n",
       "<style scoped>\n",
       "    .dataframe tbody tr th:only-of-type {\n",
       "        vertical-align: middle;\n",
       "    }\n",
       "\n",
       "    .dataframe tbody tr th {\n",
       "        vertical-align: top;\n",
       "    }\n",
       "\n",
       "    .dataframe thead th {\n",
       "        text-align: right;\n",
       "    }\n",
       "</style>\n",
       "<table border=\"1\" class=\"dataframe\">\n",
       "  <thead>\n",
       "    <tr style=\"text-align: right;\">\n",
       "      <th></th>\n",
       "      <th></th>\n",
       "      <th></th>\n",
       "      <th></th>\n",
       "      <th>files</th>\n",
       "    </tr>\n",
       "    <tr>\n",
       "      <th>experimental_strategy</th>\n",
       "      <th>access</th>\n",
       "      <th>data_type</th>\n",
       "      <th>data_format</th>\n",
       "      <th></th>\n",
       "    </tr>\n",
       "  </thead>\n",
       "  <tbody>\n",
       "    <tr>\n",
       "      <th>RNA-Seq</th>\n",
       "      <th>open</th>\n",
       "      <th>Gene Expression Quantification</th>\n",
       "      <th>TSV</th>\n",
       "      <td>542</td>\n",
       "    </tr>\n",
       "    <tr>\n",
       "      <th>miRNA-Seq</th>\n",
       "      <th>open</th>\n",
       "      <th>Isoform Expression Quantification</th>\n",
       "      <th>TXT</th>\n",
       "      <td>542</td>\n",
       "    </tr>\n",
       "  </tbody>\n",
       "</table>\n",
       "</div>"
      ],
      "text/plain": [
       "                                                                            files\n",
       "experimental_strategy access data_type                         data_format       \n",
       "RNA-Seq               open   Gene Expression Quantification    TSV            542\n",
       "miRNA-Seq             open   Isoform Expression Quantification TXT            542"
      ]
     },
     "execution_count": 20,
     "metadata": {},
     "output_type": "execute_result"
    }
   ],
   "source": [
    "# Count the number of data types associated with files\n",
    "df_files_of_interest \\\n",
    "    .groupby([\n",
    "        'experimental_strategy', 'access', 'data_type', 'data_format',\n",
    "    ]) \\\n",
    "    .agg(files = pd.NamedAgg(column='file_id', aggfunc='nunique')) \\\n",
    "    .sort_values(by=['experimental_strategy', 'access', 'files'])"
   ]
  }
 ],
 "metadata": {
  "kernelspec": {
   "display_name": "Python 3",
   "language": "python",
   "name": "python3"
  },
  "language_info": {
   "codemirror_mode": {
    "name": "ipython",
    "version": 3
   },
   "file_extension": ".py",
   "mimetype": "text/x-python",
   "name": "python",
   "nbconvert_exporter": "python",
   "pygments_lexer": "ipython3",
   "version": "3.8.10"
  }
 },
 "nbformat": 4,
 "nbformat_minor": 2
}
