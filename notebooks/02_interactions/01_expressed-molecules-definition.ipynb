{
 "cells": [
  {
   "cell_type": "markdown",
   "id": "84d1fb28",
   "metadata": {},
   "source": [
    "# **Defining the Expressed Molecules in TCGA-BRCA Samples**"
   ]
  },
  {
   "cell_type": "markdown",
   "id": "12066e59",
   "metadata": {},
   "source": [
    "# Importing Libraries and Configurations"
   ]
  },
  {
   "cell_type": "code",
   "execution_count": 1,
   "id": "6d518645",
   "metadata": {},
   "outputs": [],
   "source": [
    "import os\n",
    "import sys\n",
    "\n",
    "import numpy as np\n",
    "import pandas as pd\n",
    "\n",
    "# Get the project root (two levels above)\n",
    "sys.path.append(os.path.abspath(os.path.join('..', '..')))\n",
    "\n",
    "from config import (\n",
    "    BRCA_PROCESSED_FILES_DIRS,\n",
    ")"
   ]
  },
  {
   "cell_type": "markdown",
   "id": "9d0ecdda",
   "metadata": {},
   "source": [
    "# Loading Data"
   ]
  },
  {
   "cell_type": "code",
   "execution_count": 2,
   "id": "382291e8",
   "metadata": {},
   "outputs": [],
   "source": [
    "# Basal-like\n",
    "df_basal_mirs = pd.read_csv(\n",
    "    os.path.join(BRCA_PROCESSED_FILES_DIRS['basal'], 'basal-like-mir-norm-reads.csv')\n",
    ")\n",
    "\n",
    "df_basal_mrnas = pd.read_csv(\n",
    "    os.path.join(BRCA_PROCESSED_FILES_DIRS['basal'], 'basal-like-mrna-norm-reads.csv')\n",
    ")\n",
    "\n",
    "# HER2-enriched\n",
    "df_her2_mirs = pd.read_csv(\n",
    "    os.path.join(BRCA_PROCESSED_FILES_DIRS['her2'], 'her2-enriched-mir-norm-reads.csv')\n",
    ")\n",
    "\n",
    "df_her2_mrnas = pd.read_csv(\n",
    "    os.path.join(BRCA_PROCESSED_FILES_DIRS['her2'], 'her2-enriched-mrna-norm-reads.csv')\n",
    ")\n",
    "\n",
    "# Luminal A\n",
    "df_luma_mirs = pd.read_csv(\n",
    "    os.path.join(BRCA_PROCESSED_FILES_DIRS['lum_a'], 'luminal-a-mir-norm-reads.csv')\n",
    ")\n",
    "\n",
    "df_luma_mrnas = pd.read_csv(\n",
    "    os.path.join(BRCA_PROCESSED_FILES_DIRS['lum_a'], 'luminal-a-mrna-norm-reads.csv')\n",
    ")\n",
    "\n",
    "# Luminal B\n",
    "df_lumb_mirs = pd.read_csv(\n",
    "    os.path.join(BRCA_PROCESSED_FILES_DIRS['lum_b'], 'luminal-b-mir-norm-reads.csv')\n",
    ")\n",
    "\n",
    "df_lumb_mrnas = pd.read_csv(\n",
    "    os.path.join(BRCA_PROCESSED_FILES_DIRS['lum_b'], 'luminal-b-mrna-norm-reads.csv')\n",
    ")\n",
    "\n",
    "# Normal tissue\n",
    "df_normal_mirs = pd.read_csv(\n",
    "    os.path.join(BRCA_PROCESSED_FILES_DIRS['normal'], 'normal-tissue-mir-norm-reads.csv')\n",
    ")\n",
    "\n",
    "df_normal_mrnas = pd.read_csv(\n",
    "    os.path.join(BRCA_PROCESSED_FILES_DIRS['normal'], 'normal-tissue-mrna-norm-reads.csv')\n",
    ")"
   ]
  },
  {
   "cell_type": "markdown",
   "id": "22976935",
   "metadata": {},
   "source": [
    "# Expressed Molecules"
   ]
  },
  {
   "cell_type": "code",
   "execution_count": 3,
   "id": "9c33b8d0",
   "metadata": {},
   "outputs": [],
   "source": [
    "# MicroRNAs\n",
    "query = df_basal_mirs['%_non_zero_samples'] > 50.0\n",
    "df_basal_mirs = df_basal_mirs[query]['miRNA_region_id']\n",
    "\n",
    "file_name = 'basal-like-expressed-mir.csv'\n",
    "df_basal_mirs.to_csv(\n",
    "    os.path.join(BRCA_PROCESSED_FILES_DIRS['basal'], file_name), index=False\n",
    ")\n",
    "\n",
    "# Messenger RNAs\n",
    "query = df_basal_mrnas['%_non_zero_samples'] > 50.0\n",
    "df_basal_mrnas = df_basal_mrnas[query]['gene_name']\n",
    "\n",
    "file_name = 'basal-like-expressed-mrna.csv'\n",
    "df_basal_mrnas.to_csv(\n",
    "    os.path.join(BRCA_PROCESSED_FILES_DIRS['basal'], file_name), index=False\n",
    ")"
   ]
  },
  {
   "cell_type": "code",
   "execution_count": 4,
   "id": "bc02275e",
   "metadata": {},
   "outputs": [],
   "source": [
    "# MicroRNAs\n",
    "query = df_her2_mirs['%_non_zero_samples'] > 50.0\n",
    "df_her2_mirs = df_her2_mirs[query]['miRNA_region_id']\n",
    "\n",
    "file_name = 'her2-enriched-expressed-mir.csv'\n",
    "df_her2_mirs.to_csv(\n",
    "    os.path.join(BRCA_PROCESSED_FILES_DIRS['her2'], file_name), index=False\n",
    ")\n",
    "\n",
    "# Messenger RNAs\n",
    "query = df_her2_mrnas['%_non_zero_samples'] > 50.0\n",
    "df_her2_mrnas = df_her2_mrnas[query]['gene_name']\n",
    "\n",
    "file_name = 'her2-enriched-expressed-mrna.csv'\n",
    "df_her2_mrnas.to_csv(\n",
    "    os.path.join(BRCA_PROCESSED_FILES_DIRS['her2'], file_name), index=False\n",
    ")"
   ]
  },
  {
   "cell_type": "code",
   "execution_count": 5,
   "id": "f037fcbe",
   "metadata": {},
   "outputs": [],
   "source": [
    "# MicroRNAs\n",
    "query = df_luma_mirs['%_non_zero_samples'] > 50.0\n",
    "df_luma_mirs = df_luma_mirs[query]['miRNA_region_id']\n",
    "\n",
    "file_name = 'luminal-a-expressed-mir.csv'\n",
    "df_luma_mirs.to_csv(\n",
    "    os.path.join(BRCA_PROCESSED_FILES_DIRS['lum_a'], file_name), index=False\n",
    ")\n",
    "\n",
    "# Messenger RNAs\n",
    "query = df_luma_mrnas['%_non_zero_samples'] > 50.0\n",
    "df_luma_mrnas = df_luma_mrnas[query]['gene_name']\n",
    "\n",
    "file_name = 'luminal-a-expressed-mrna.csv'\n",
    "df_luma_mrnas.to_csv(\n",
    "    os.path.join(BRCA_PROCESSED_FILES_DIRS['lum_a'], file_name), index=False\n",
    ")"
   ]
  },
  {
   "cell_type": "code",
   "execution_count": 6,
   "id": "cf92692a",
   "metadata": {},
   "outputs": [],
   "source": [
    "# MicroRNAs\n",
    "query = df_lumb_mirs['%_non_zero_samples'] > 50.0\n",
    "df_lumb_mirs = df_lumb_mirs[query]['miRNA_region_id']\n",
    "\n",
    "file_name = 'luminal-b-expressed-mir.csv'\n",
    "df_lumb_mirs.to_csv(\n",
    "    os.path.join(BRCA_PROCESSED_FILES_DIRS['lum_b'], file_name), index=False\n",
    ")\n",
    "\n",
    "# Messenger RNAs\n",
    "query = df_lumb_mrnas['%_non_zero_samples'] > 50.0\n",
    "df_lumb_mrnas = df_lumb_mrnas[query]['gene_name']\n",
    "\n",
    "file_name = 'luminal-b-expressed-mrna.csv'\n",
    "df_lumb_mrnas.to_csv(\n",
    "    os.path.join(BRCA_PROCESSED_FILES_DIRS['lum_b'], file_name), index=False\n",
    ")"
   ]
  },
  {
   "cell_type": "code",
   "execution_count": 7,
   "id": "96c1a947",
   "metadata": {},
   "outputs": [],
   "source": [
    "# MicroRNAs\n",
    "query = df_normal_mirs['%_non_zero_samples'] > 50.0\n",
    "df_normal_mirs = df_normal_mirs[query]['miRNA_region_id']\n",
    "\n",
    "file_name = 'normal-tissue-expressed-mir.csv'\n",
    "df_normal_mirs.to_csv(\n",
    "    os.path.join(BRCA_PROCESSED_FILES_DIRS['normal'], file_name), index=False\n",
    ")\n",
    "\n",
    "# Messenger RNAs\n",
    "query = df_normal_mrnas['%_non_zero_samples'] > 50.0\n",
    "df_normal_mrnas = df_normal_mrnas[query]['gene_name']\n",
    "\n",
    "file_name = 'normal-tissue-expressed-mrna.csv'\n",
    "df_normal_mrnas.to_csv(\n",
    "    os.path.join(BRCA_PROCESSED_FILES_DIRS['normal'], file_name), index=False\n",
    ")"
   ]
  }
 ],
 "metadata": {
  "kernelspec": {
   "display_name": "Python 3",
   "language": "python",
   "name": "python3"
  },
  "language_info": {
   "codemirror_mode": {
    "name": "ipython",
    "version": 3
   },
   "file_extension": ".py",
   "mimetype": "text/x-python",
   "name": "python",
   "nbconvert_exporter": "python",
   "pygments_lexer": "ipython3",
   "version": "3.8.10"
  }
 },
 "nbformat": 4,
 "nbformat_minor": 5
}
