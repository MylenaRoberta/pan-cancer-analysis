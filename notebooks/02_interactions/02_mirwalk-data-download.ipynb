{
 "cells": [
  {
   "cell_type": "markdown",
   "id": "acbb8b74",
   "metadata": {},
   "source": [
    "# **Downloading Interaction Data from miRWalk**"
   ]
  },
  {
   "cell_type": "markdown",
   "id": "34bf91f2",
   "metadata": {},
   "source": [
    "# Importing Libraries and Configurations"
   ]
  },
  {
   "cell_type": "code",
   "execution_count": 1,
   "id": "316c771c",
   "metadata": {},
   "outputs": [],
   "source": [
    "import os\n",
    "import sys\n",
    "import time\n",
    "\n",
    "import numpy as np\n",
    "import pandas as pd\n",
    "from selenium import webdriver\n",
    "from selenium.webdriver.common.by import By\n",
    "from selenium.webdriver.support.ui import Select\n",
    "\n",
    "# Get the project root (two levels above)\n",
    "sys.path.append(os.path.abspath(os.path.join('..', '..')))\n",
    "\n",
    "from config import (\n",
    "    BRCA_PROCESSED_FILES_DIRS,\n",
    "    MIRWALK_BASE_URL,\n",
    "    MIRWALK_DEFAULT_FILE_PATH,\n",
    "    MIRWALK_EXTERNAL_DATA_DIR,\n",
    "    MIRWALK_SPECIES_SELECTION,\n",
    ")"
   ]
  },
  {
   "cell_type": "markdown",
   "id": "5010258f",
   "metadata": {},
   "source": [
    "# Functions"
   ]
  },
  {
   "cell_type": "code",
   "execution_count": 2,
   "id": "c4aa573f",
   "metadata": {},
   "outputs": [],
   "source": [
    "def create_driver(download_directory):\n",
    "    # Configure the Selenium ChromeDriver\n",
    "    options = webdriver.ChromeOptions()\n",
    "    options.add_argument('--headless')\n",
    "    options.add_argument('--no-sandbox')\n",
    "    options.add_argument('--disable-dev-shm-usage')\n",
    "    options.add_argument('--disable-gpu')\n",
    "    options.add_argument('--disable-extensions')\n",
    "\n",
    "    # Define the download directory\n",
    "    options.add_experimental_option(\n",
    "        'prefs', {'download.default_directory': download_directory}\n",
    "    )\n",
    "\n",
    "    # Initiate the Chrome browser\n",
    "    driver = webdriver.Chrome(options=options)\n",
    "\n",
    "    return driver\n",
    "\n",
    "def quit_driver(driver):\n",
    "    # Close the Chrome browser\n",
    "    driver.quit()\n",
    "\n",
    "def export_mirna_targets(driver, mirna):\n",
    "    # Access miRWalk website\n",
    "    driver.get(MIRWALK_BASE_URL)\n",
    "\n",
    "    # Find and fill the species selector\n",
    "    species_input = Select(driver.find_element(By.NAME, 'species'))\n",
    "    species_input.select_by_visible_text(MIRWALK_SPECIES_SELECTION)\n",
    "\n",
    "    # Find and fill the microRNA identifier\n",
    "    mirna_input = driver.find_element(By.NAME, 'mirna')\n",
    "    mirna_input.send_keys(mirna)\n",
    "\n",
    "    # Find and click in the search button\n",
    "    search_btn = driver.find_element(By.XPATH, '//button[text()=\"search\"]')\n",
    "    search_btn.click()\n",
    "\n",
    "    # Find and click in the export CSV button\n",
    "    export_link = driver.find_element(By.LINK_TEXT, 'Export CSV')\n",
    "    export_link.click()\n",
    "\n",
    "    # Wait until the download is complete\n",
    "    while not os.path.exists(MIRWALK_DEFAULT_FILE_PATH):\n",
    "        time.sleep(5)\n",
    "\n",
    "    # Change the name of the downloaded file\n",
    "    file_name = f'{mirna}.csv'\n",
    "    mirna_file_path = os.path.join(MIRWALK_EXTERNAL_DATA_DIR, file_name)\n",
    "    os.rename(MIRWALK_DEFAULT_FILE_PATH, mirna_file_path)"
   ]
  },
  {
   "cell_type": "markdown",
   "id": "6820cd10",
   "metadata": {},
   "source": [
    "# Loading Data"
   ]
  },
  {
   "cell_type": "code",
   "execution_count": 3,
   "id": "51641483",
   "metadata": {},
   "outputs": [],
   "source": [
    "# Basal-like\n",
    "df_basal_mirs = pd.read_csv(\n",
    "    os.path.join(BRCA_PROCESSED_FILES_DIRS['basal'], 'basal-like-expressed-mir.csv')\n",
    ")\n",
    "basal_mirs = set(df_basal_mirs['miRNA_region_id'].tolist())\n",
    "\n",
    "# HER2-enriched\n",
    "df_her2_mirs = pd.read_csv(\n",
    "    os.path.join(BRCA_PROCESSED_FILES_DIRS['her2'], 'her2-enriched-expressed-mir.csv')\n",
    ")\n",
    "her2_mirs = set(df_her2_mirs['miRNA_region_id'].tolist())\n",
    "\n",
    "# Luminal A\n",
    "df_luma_mirs = pd.read_csv(\n",
    "    os.path.join(BRCA_PROCESSED_FILES_DIRS['lum_a'], 'luminal-a-expressed-mir.csv')\n",
    ")\n",
    "luma_mirs = set(df_luma_mirs['miRNA_region_id'].tolist())\n",
    "\n",
    "# Luminal B\n",
    "df_lumb_mirs = pd.read_csv(\n",
    "    os.path.join(BRCA_PROCESSED_FILES_DIRS['lum_b'], 'luminal-b-expressed-mir.csv')\n",
    ")\n",
    "lumb_mirs = set(df_lumb_mirs['miRNA_region_id'].tolist())\n",
    "\n",
    "# Normal tissue\n",
    "df_normal_mirs = pd.read_csv(\n",
    "    os.path.join(BRCA_PROCESSED_FILES_DIRS['normal'], 'normal-tissue-expressed-mir.csv')\n",
    ")\n",
    "normal_mirs = set(df_normal_mirs['miRNA_region_id'].tolist())\n",
    "\n",
    "# All expressed microRNAs\n",
    "expressed_mirs = basal_mirs.union(her2_mirs)\n",
    "expressed_mirs = expressed_mirs.union(luma_mirs)\n",
    "expressed_mirs = expressed_mirs.union(lumb_mirs)\n",
    "expressed_mirs = expressed_mirs.union(normal_mirs)"
   ]
  },
  {
   "cell_type": "code",
   "execution_count": 4,
   "id": "1831e8c0",
   "metadata": {},
   "outputs": [
    {
     "data": {
      "text/plain": [
       "717"
      ]
     },
     "execution_count": 4,
     "metadata": {},
     "output_type": "execute_result"
    }
   ],
   "source": [
    "len(expressed_mirs)"
   ]
  },
  {
   "cell_type": "markdown",
   "id": "710a76eb",
   "metadata": {},
   "source": [
    "# Downloading Data"
   ]
  },
  {
   "cell_type": "code",
   "execution_count": 5,
   "id": "e785972f",
   "metadata": {},
   "outputs": [
    {
     "ename": "NoSuchElementException",
     "evalue": "Message: no such element: Unable to locate element: {\"method\":\"link text\",\"selector\":\"Export CSV\"}\n  (Session info: chrome=128.0.6613.84); For documentation on this error, please visit: https://www.selenium.dev/documentation/webdriver/troubleshooting/errors#no-such-element-exception\nStacktrace:\n#0 0x562fa6f662da <unknown>\n#1 0x562fa6c34200 <unknown>\n#2 0x562fa6c83aa2 <unknown>\n#3 0x562fa6c83d41 <unknown>\n#4 0x562fa6cc9964 <unknown>\n#5 0x562fa6ca88fd <unknown>\n#6 0x562fa6cc6dfd <unknown>\n#7 0x562fa6ca8673 <unknown>\n#8 0x562fa6c76473 <unknown>\n#9 0x562fa6c7747e <unknown>\n#10 0x562fa6f2d0db <unknown>\n#11 0x562fa6f31071 <unknown>\n#12 0x562fa6f199d5 <unknown>\n#13 0x562fa6f31bf2 <unknown>\n#14 0x562fa6efeb6f <unknown>\n#15 0x562fa6f55248 <unknown>\n#16 0x562fa6f55417 <unknown>\n#17 0x562fa6f650cc <unknown>\n#18 0x7fb6f05be609 start_thread\n",
     "output_type": "error",
     "traceback": [
      "\u001b[0;31m---------------------------------------------------------------------------\u001b[0m",
      "\u001b[0;31mNoSuchElementException\u001b[0m                    Traceback (most recent call last)",
      "Input \u001b[0;32mIn [5]\u001b[0m, in \u001b[0;36m<cell line: 4>\u001b[0;34m()\u001b[0m\n\u001b[1;32m      2\u001b[0m driver \u001b[38;5;241m=\u001b[39m create_driver(\u001b[38;5;28mstr\u001b[39m(MIRWALK_EXTERNAL_DATA_DIR))\n\u001b[1;32m      4\u001b[0m \u001b[38;5;28;01mfor\u001b[39;00m mirna \u001b[38;5;129;01min\u001b[39;00m expressed_mirs:\n\u001b[0;32m----> 5\u001b[0m     mirna_file_path \u001b[38;5;241m=\u001b[39m \u001b[43mexport_mirna_targets\u001b[49m\u001b[43m(\u001b[49m\u001b[43mdriver\u001b[49m\u001b[43m,\u001b[49m\u001b[43m \u001b[49m\u001b[43mmirna\u001b[49m\u001b[43m)\u001b[49m\n\u001b[1;32m      7\u001b[0m \u001b[38;5;66;03m# Close the ChromeDriver\u001b[39;00m\n\u001b[1;32m      8\u001b[0m quit_driver(driver)\n",
      "Input \u001b[0;32mIn [2]\u001b[0m, in \u001b[0;36mexport_mirna_targets\u001b[0;34m(driver, mirna)\u001b[0m\n\u001b[1;32m     38\u001b[0m search_btn\u001b[38;5;241m.\u001b[39mclick()\n\u001b[1;32m     40\u001b[0m \u001b[38;5;66;03m# Find and click in the export CSV button\u001b[39;00m\n\u001b[0;32m---> 41\u001b[0m export_link \u001b[38;5;241m=\u001b[39m \u001b[43mdriver\u001b[49m\u001b[38;5;241;43m.\u001b[39;49m\u001b[43mfind_element\u001b[49m\u001b[43m(\u001b[49m\u001b[43mBy\u001b[49m\u001b[38;5;241;43m.\u001b[39;49m\u001b[43mLINK_TEXT\u001b[49m\u001b[43m,\u001b[49m\u001b[43m \u001b[49m\u001b[38;5;124;43m'\u001b[39;49m\u001b[38;5;124;43mExport CSV\u001b[39;49m\u001b[38;5;124;43m'\u001b[39;49m\u001b[43m)\u001b[49m\n\u001b[1;32m     42\u001b[0m export_link\u001b[38;5;241m.\u001b[39mclick()\n\u001b[1;32m     44\u001b[0m \u001b[38;5;66;03m# Wait until the download is complete\u001b[39;00m\n",
      "File \u001b[0;32m~/.local/lib/python3.8/site-packages/selenium/webdriver/remote/webdriver.py:748\u001b[0m, in \u001b[0;36mWebDriver.find_element\u001b[0;34m(self, by, value)\u001b[0m\n\u001b[1;32m    745\u001b[0m     by \u001b[38;5;241m=\u001b[39m By\u001b[38;5;241m.\u001b[39mCSS_SELECTOR\n\u001b[1;32m    746\u001b[0m     value \u001b[38;5;241m=\u001b[39m \u001b[38;5;124mf\u001b[39m\u001b[38;5;124m'\u001b[39m\u001b[38;5;124m[name=\u001b[39m\u001b[38;5;124m\"\u001b[39m\u001b[38;5;132;01m{\u001b[39;00mvalue\u001b[38;5;132;01m}\u001b[39;00m\u001b[38;5;124m\"\u001b[39m\u001b[38;5;124m]\u001b[39m\u001b[38;5;124m'\u001b[39m\n\u001b[0;32m--> 748\u001b[0m \u001b[38;5;28;01mreturn\u001b[39;00m \u001b[38;5;28;43mself\u001b[39;49m\u001b[38;5;241;43m.\u001b[39;49m\u001b[43mexecute\u001b[49m\u001b[43m(\u001b[49m\u001b[43mCommand\u001b[49m\u001b[38;5;241;43m.\u001b[39;49m\u001b[43mFIND_ELEMENT\u001b[49m\u001b[43m,\u001b[49m\u001b[43m \u001b[49m\u001b[43m{\u001b[49m\u001b[38;5;124;43m\"\u001b[39;49m\u001b[38;5;124;43musing\u001b[39;49m\u001b[38;5;124;43m\"\u001b[39;49m\u001b[43m:\u001b[49m\u001b[43m \u001b[49m\u001b[43mby\u001b[49m\u001b[43m,\u001b[49m\u001b[43m \u001b[49m\u001b[38;5;124;43m\"\u001b[39;49m\u001b[38;5;124;43mvalue\u001b[39;49m\u001b[38;5;124;43m\"\u001b[39;49m\u001b[43m:\u001b[49m\u001b[43m \u001b[49m\u001b[43mvalue\u001b[49m\u001b[43m}\u001b[49m\u001b[43m)\u001b[49m[\u001b[38;5;124m\"\u001b[39m\u001b[38;5;124mvalue\u001b[39m\u001b[38;5;124m\"\u001b[39m]\n",
      "File \u001b[0;32m~/.local/lib/python3.8/site-packages/selenium/webdriver/remote/webdriver.py:354\u001b[0m, in \u001b[0;36mWebDriver.execute\u001b[0;34m(self, driver_command, params)\u001b[0m\n\u001b[1;32m    352\u001b[0m response \u001b[38;5;241m=\u001b[39m \u001b[38;5;28mself\u001b[39m\u001b[38;5;241m.\u001b[39mcommand_executor\u001b[38;5;241m.\u001b[39mexecute(driver_command, params)\n\u001b[1;32m    353\u001b[0m \u001b[38;5;28;01mif\u001b[39;00m response:\n\u001b[0;32m--> 354\u001b[0m     \u001b[38;5;28;43mself\u001b[39;49m\u001b[38;5;241;43m.\u001b[39;49m\u001b[43merror_handler\u001b[49m\u001b[38;5;241;43m.\u001b[39;49m\u001b[43mcheck_response\u001b[49m\u001b[43m(\u001b[49m\u001b[43mresponse\u001b[49m\u001b[43m)\u001b[49m\n\u001b[1;32m    355\u001b[0m     response[\u001b[38;5;124m\"\u001b[39m\u001b[38;5;124mvalue\u001b[39m\u001b[38;5;124m\"\u001b[39m] \u001b[38;5;241m=\u001b[39m \u001b[38;5;28mself\u001b[39m\u001b[38;5;241m.\u001b[39m_unwrap_value(response\u001b[38;5;241m.\u001b[39mget(\u001b[38;5;124m\"\u001b[39m\u001b[38;5;124mvalue\u001b[39m\u001b[38;5;124m\"\u001b[39m, \u001b[38;5;28;01mNone\u001b[39;00m))\n\u001b[1;32m    356\u001b[0m     \u001b[38;5;28;01mreturn\u001b[39;00m response\n",
      "File \u001b[0;32m~/.local/lib/python3.8/site-packages/selenium/webdriver/remote/errorhandler.py:229\u001b[0m, in \u001b[0;36mErrorHandler.check_response\u001b[0;34m(self, response)\u001b[0m\n\u001b[1;32m    227\u001b[0m         alert_text \u001b[38;5;241m=\u001b[39m value[\u001b[38;5;124m\"\u001b[39m\u001b[38;5;124malert\u001b[39m\u001b[38;5;124m\"\u001b[39m]\u001b[38;5;241m.\u001b[39mget(\u001b[38;5;124m\"\u001b[39m\u001b[38;5;124mtext\u001b[39m\u001b[38;5;124m\"\u001b[39m)\n\u001b[1;32m    228\u001b[0m     \u001b[38;5;28;01mraise\u001b[39;00m exception_class(message, screen, stacktrace, alert_text)  \u001b[38;5;66;03m# type: ignore[call-arg]  # mypy is not smart enough here\u001b[39;00m\n\u001b[0;32m--> 229\u001b[0m \u001b[38;5;28;01mraise\u001b[39;00m exception_class(message, screen, stacktrace)\n",
      "\u001b[0;31mNoSuchElementException\u001b[0m: Message: no such element: Unable to locate element: {\"method\":\"link text\",\"selector\":\"Export CSV\"}\n  (Session info: chrome=128.0.6613.84); For documentation on this error, please visit: https://www.selenium.dev/documentation/webdriver/troubleshooting/errors#no-such-element-exception\nStacktrace:\n#0 0x562fa6f662da <unknown>\n#1 0x562fa6c34200 <unknown>\n#2 0x562fa6c83aa2 <unknown>\n#3 0x562fa6c83d41 <unknown>\n#4 0x562fa6cc9964 <unknown>\n#5 0x562fa6ca88fd <unknown>\n#6 0x562fa6cc6dfd <unknown>\n#7 0x562fa6ca8673 <unknown>\n#8 0x562fa6c76473 <unknown>\n#9 0x562fa6c7747e <unknown>\n#10 0x562fa6f2d0db <unknown>\n#11 0x562fa6f31071 <unknown>\n#12 0x562fa6f199d5 <unknown>\n#13 0x562fa6f31bf2 <unknown>\n#14 0x562fa6efeb6f <unknown>\n#15 0x562fa6f55248 <unknown>\n#16 0x562fa6f55417 <unknown>\n#17 0x562fa6f650cc <unknown>\n#18 0x7fb6f05be609 start_thread\n"
     ]
    }
   ],
   "source": [
    "# Create the ChromeDriver\n",
    "driver = create_driver(str(MIRWALK_EXTERNAL_DATA_DIR))\n",
    "\n",
    "for mirna in expressed_mirs:\n",
    "    mirna_file_path = export_mirna_targets(driver, mirna)\n",
    "\n",
    "# Close the ChromeDriver\n",
    "quit_driver(driver)"
   ]
  }
 ],
 "metadata": {
  "kernelspec": {
   "display_name": "Python 3",
   "language": "python",
   "name": "python3"
  },
  "language_info": {
   "codemirror_mode": {
    "name": "ipython",
    "version": 3
   },
   "file_extension": ".py",
   "mimetype": "text/x-python",
   "name": "python",
   "nbconvert_exporter": "python",
   "pygments_lexer": "ipython3",
   "version": "3.8.10"
  }
 },
 "nbformat": 4,
 "nbformat_minor": 5
}
