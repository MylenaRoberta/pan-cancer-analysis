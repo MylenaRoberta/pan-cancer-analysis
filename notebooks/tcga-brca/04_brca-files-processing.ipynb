{
 "cells": [
  {
   "cell_type": "markdown",
   "metadata": {},
   "source": [
    "# **Processing Files of Interest from TCGA-BRCA Project**\n",
    "TCGA: The Cancer Genome Atlas  \n",
    "BRCA: Breast Invasive Carcinoma"
   ]
  },
  {
   "cell_type": "markdown",
   "metadata": {},
   "source": [
    "# Importing Libraries and Configurations"
   ]
  },
  {
   "cell_type": "code",
   "execution_count": null,
   "metadata": {},
   "outputs": [],
   "source": [
    "import os\n",
    "import sys\n",
    "\n",
    "import numpy as np\n",
    "import pandas as pd\n",
    "\n",
    "# Get the project root (two levels above)\n",
    "sys.path.append(os.path.abspath(os.path.join('..', '..')))\n",
    "\n",
    "from config import (\n",
    "    PROCESSED_DATA_DIR,\n",
    "    BRCA_RAW_FILES_DIRS,  \n",
    ")"
   ]
  },
  {
   "cell_type": "markdown",
   "metadata": {},
   "source": [
    "# Functions"
   ]
  },
  {
   "cell_type": "code",
   "execution_count": null,
   "metadata": {},
   "outputs": [],
   "source": [
    "def mirna_seq_files_processing(path):\n",
    "    # List the miRNA-Seq files contained in the folder\n",
    "    files = [f for f in os.listdir(path) if f.startswith('mirna-seq_')]\n",
    "\n",
    "    # Retrieve the file id of the first file\n",
    "    file_id = files[0].replace('mirna-seq_', '')\n",
    "    file_id = file_id.replace('.txt', '')\n",
    "\n",
    "    # Initialize DataFrames with raw and normalized reads of the first file\n",
    "    df_mir_reads = pd.read_csv(f'{path}/{files[0]}', sep='\\t')\n",
    "    \n",
    "    # columns = ['genome_assembly', 'chromosome', 'genomic_coordinates', 'strand']\n",
    "    # df_mir_reads[columns] =  \\\n",
    "    #     df_mir_reads['isoform_coords'].str.split(':', 3, expand=True)\n",
    "    \n",
    "    df_mir_reads[['miRNA_region_name', 'miRNA_region_id']] = \\\n",
    "        df_mir_reads['miRNA_region'].str.split(',', 1, expand=True)\n",
    "        \n",
    "    df_mir_reads = df_mir_reads \\\n",
    "        .groupby('miRNA_region_id') \\\n",
    "        .agg(\n",
    "            raw_reads = pd.NamedAgg(column='read_count', aggfunc='sum'),\n",
    "            norm_reads = pd.NamedAgg(column='reads_per_million_miRNA_mapped', aggfunc='sum')\n",
    "        ) \\\n",
    "        .reset_index()\n",
    "        \n",
    "    df_mir_raw_reads = df_mir_reads[['miRNA_region_id', 'raw_reads']] \\\n",
    "        .rename(columns={'raw_reads': file_id})\n",
    "        \n",
    "    df_mir_norm_reads = df_mir_reads[['miRNA_region_id', 'norm_reads']] \\\n",
    "        .rename(columns={'norm_reads': file_id})\n",
    "    \n",
    "    # df_mir_raw_reads = df_mir_raw_reads \\\n",
    "    #     [['miRNA_ID', 'read_count']] \\\n",
    "    #     .rename(columns={'read_count': file_id})\n",
    "        \n",
    "    # Transform each file read count into a new column of the DataFrame\n",
    "    for file in files[1:]:\n",
    "        # Retrieve the file id\n",
    "        file_id = file.replace('mirna-seq_', '')\n",
    "        file_id = file_id.replace('.txt', '')\n",
    "\n",
    "        # Read the file and rename the read count column\n",
    "        df_temp = pd.read_csv(f'{path}/{file}', sep='\\t')\n",
    "        df_temp = df_temp \\\n",
    "            [['miRNA_ID', 'read_count']] \\\n",
    "            .rename(columns={'read_count': file_id})\n",
    "\n",
    "        # Add the file read count as a new DataFrame column\n",
    "        df_mir_raw_reads = df_mir_raw_reads \\\n",
    "            .merge(\n",
    "                right=df_temp,\n",
    "                left_on='miRNA_ID',\n",
    "                right_on='miRNA_ID',\n",
    "                how='outer'\n",
    "            )\n",
    "    \n",
    "    return df_mir_raw_reads, df_mir_norm_reads"
   ]
  },
  {
   "cell_type": "code",
   "execution_count": 3,
   "metadata": {},
   "outputs": [],
   "source": [
    "def rna_seq_files_processing(path):\n",
    "    # List the RNA-Seq files contained in the folder\n",
    "    files = [f for f in os.listdir(path) if f.startswith('rna-seq_')]\n",
    "\n",
    "    # Retrieve the file id of the first file\n",
    "    file_id = files[0].replace('rna-seq_', '')\n",
    "    file_id = file_id.replace('.tsv', '')\n",
    "\n",
    "    # Initialize DataFrames with raw and normalized reads of the first file\n",
    "    df_mrna_raw_reads = pd.read_csv(f'{path}/{files[0]}', sep='\\t', skiprows=1)\n",
    "    df_mrna_raw_reads = df_mrna_raw_reads \\\n",
    "        .query('gene_type == \"protein_coding\"') \\\n",
    "        .reset_index(drop=True)\n",
    "    \n",
    "    df_mrna_norm_reads = df_mrna_raw_reads \\\n",
    "        [['gene_id', 'gene_name', 'tpm_unstranded']] \\\n",
    "        .rename(columns={'tpm_unstranded': file_id})\n",
    "    \n",
    "    df_mrna_raw_reads = df_mrna_raw_reads \\\n",
    "        [['gene_id', 'gene_name', 'unstranded']] \\\n",
    "        .rename(columns={'unstranded': file_id})\n",
    "    \n",
    "    # Transform each file read count into a new column of the DataFrame\n",
    "    for file in files[1:]:\n",
    "        # Retrieve the file id\n",
    "        file_id = file.replace('rna-seq_', '')\n",
    "        file_id = file_id.replace('.tsv', '')\n",
    "\n",
    "        # Read the file and rename the read count column\n",
    "        df_temp_raw_reads = pd.read_csv(f'{path}/{file}', sep='\\t', skiprows=1)\n",
    "        df_temp_raw_reads = df_temp_raw_reads \\\n",
    "            .query('gene_type == \"protein_coding\"')\n",
    "            \n",
    "        df_temp_norm_reads = df_temp_raw_reads \\\n",
    "            [['gene_id', 'tpm_unstranded']] \\\n",
    "            .rename(columns={'tpm_unstranded': file_id})\n",
    "    \n",
    "        df_temp_raw_reads = df_temp_raw_reads \\\n",
    "            [['gene_id', 'unstranded']] \\\n",
    "            .rename(columns={'unstranded': file_id})\n",
    "\n",
    "        # Add the raw read count as a new DataFrame column\n",
    "        df_mrna_raw_reads = df_mrna_raw_reads \\\n",
    "            .merge(\n",
    "                right=df_temp_raw_reads,\n",
    "                left_on='gene_id',\n",
    "                right_on='gene_id',\n",
    "                how='inner'\n",
    "            )\n",
    "            \n",
    "        # Add the file read count as a new DataFrame column\n",
    "        df_mrna_norm_reads = df_mrna_norm_reads \\\n",
    "            .merge(\n",
    "                right=df_temp_norm_reads,\n",
    "                left_on='gene_id',\n",
    "                right_on='gene_id',\n",
    "                how='inner'\n",
    "            )\n",
    "        \n",
    "    return df_mrna_raw_reads, df_mrna_norm_reads"
   ]
  },
  {
   "cell_type": "code",
   "execution_count": 4,
   "metadata": {},
   "outputs": [],
   "source": [
    "def files_processing(files_path, files_prefix):\n",
    "    # Process the miRNA-Seq files related to the cohort of interest\n",
    "    df_mir_reads = mirna_seq_files_processing(files_path)\n",
    "\n",
    "    # Store the DataFrames of the processed miRNA-Seq files into CSV files\n",
    "    file_name = f'{files_prefix}-mirna-reads.csv'\n",
    "    df_mir_reads.to_csv(f'{PROCESSED_DATA_DIR}/{file_name}', index=False)\n",
    "    \n",
    "    # Process the RNA-Seq files related to the cohort of interest\n",
    "    df_rna_reads = rna_seq_files_processing(files_path)\n",
    "\n",
    "    # Store the DataFrames of the processed RNA-Seq files into CSV files\n",
    "    file_name = f'{files_prefix}-rna-reads.csv'\n",
    "    df_rna_reads.to_csv(f'{PROCESSED_DATA_DIR}/{file_name}', index=False)\n",
    "    \n",
    "    return df_mir_reads, df_rna_reads"
   ]
  },
  {
   "cell_type": "markdown",
   "metadata": {},
   "source": [
    "# Tumor Tissue Analysis Files"
   ]
  },
  {
   "cell_type": "markdown",
   "metadata": {},
   "source": [
    "## Basal-like"
   ]
  },
  {
   "cell_type": "code",
   "execution_count": 10,
   "metadata": {},
   "outputs": [],
   "source": [
    "df_raw = mirna_seq_files_processing(BRCA_RAW_FILES_DIRS['basal'])"
   ]
  },
  {
   "cell_type": "code",
   "execution_count": 11,
   "metadata": {},
   "outputs": [
    {
     "data": {
      "text/html": [
       "<div>\n",
       "<style scoped>\n",
       "    .dataframe tbody tr th:only-of-type {\n",
       "        vertical-align: middle;\n",
       "    }\n",
       "\n",
       "    .dataframe tbody tr th {\n",
       "        vertical-align: top;\n",
       "    }\n",
       "\n",
       "    .dataframe thead th {\n",
       "        text-align: right;\n",
       "    }\n",
       "</style>\n",
       "<table border=\"1\" class=\"dataframe\">\n",
       "  <thead>\n",
       "    <tr style=\"text-align: right;\">\n",
       "      <th></th>\n",
       "      <th>miRNA_region_id</th>\n",
       "      <th>raw_reads</th>\n",
       "      <th>norm_reads</th>\n",
       "    </tr>\n",
       "  </thead>\n",
       "  <tbody>\n",
       "    <tr>\n",
       "      <th>0</th>\n",
       "      <td>MIMAT0000062</td>\n",
       "      <td>15691</td>\n",
       "      <td>15553.368251</td>\n",
       "    </tr>\n",
       "    <tr>\n",
       "      <th>1</th>\n",
       "      <td>MIMAT0000063</td>\n",
       "      <td>23004</td>\n",
       "      <td>22802.223128</td>\n",
       "    </tr>\n",
       "    <tr>\n",
       "      <th>2</th>\n",
       "      <td>MIMAT0000064</td>\n",
       "      <td>2375</td>\n",
       "      <td>2354.167968</td>\n",
       "    </tr>\n",
       "    <tr>\n",
       "      <th>3</th>\n",
       "      <td>MIMAT0000065</td>\n",
       "      <td>242</td>\n",
       "      <td>239.877328</td>\n",
       "    </tr>\n",
       "    <tr>\n",
       "      <th>4</th>\n",
       "      <td>MIMAT0000066</td>\n",
       "      <td>798</td>\n",
       "      <td>791.000438</td>\n",
       "    </tr>\n",
       "    <tr>\n",
       "      <th>...</th>\n",
       "      <td>...</td>\n",
       "      <td>...</td>\n",
       "      <td>...</td>\n",
       "    </tr>\n",
       "    <tr>\n",
       "      <th>636</th>\n",
       "      <td>MIMAT0031177</td>\n",
       "      <td>3</td>\n",
       "      <td>2.973686</td>\n",
       "    </tr>\n",
       "    <tr>\n",
       "      <th>637</th>\n",
       "      <td>MIMAT0031890</td>\n",
       "      <td>1</td>\n",
       "      <td>0.991229</td>\n",
       "    </tr>\n",
       "    <tr>\n",
       "      <th>638</th>\n",
       "      <td>MIMAT0031893</td>\n",
       "      <td>3</td>\n",
       "      <td>2.973687</td>\n",
       "    </tr>\n",
       "    <tr>\n",
       "      <th>639</th>\n",
       "      <td>MIMAT0032026</td>\n",
       "      <td>1</td>\n",
       "      <td>0.991229</td>\n",
       "    </tr>\n",
       "    <tr>\n",
       "      <th>640</th>\n",
       "      <td>MIMAT0032110</td>\n",
       "      <td>18</td>\n",
       "      <td>17.842116</td>\n",
       "    </tr>\n",
       "  </tbody>\n",
       "</table>\n",
       "<p>641 rows × 3 columns</p>\n",
       "</div>"
      ],
      "text/plain": [
       "    miRNA_region_id  raw_reads    norm_reads\n",
       "0      MIMAT0000062      15691  15553.368251\n",
       "1      MIMAT0000063      23004  22802.223128\n",
       "2      MIMAT0000064       2375   2354.167968\n",
       "3      MIMAT0000065        242    239.877328\n",
       "4      MIMAT0000066        798    791.000438\n",
       "..              ...        ...           ...\n",
       "636    MIMAT0031177          3      2.973686\n",
       "637    MIMAT0031890          1      0.991229\n",
       "638    MIMAT0031893          3      2.973687\n",
       "639    MIMAT0032026          1      0.991229\n",
       "640    MIMAT0032110         18     17.842116\n",
       "\n",
       "[641 rows x 3 columns]"
      ]
     },
     "execution_count": 11,
     "metadata": {},
     "output_type": "execute_result"
    }
   ],
   "source": [
    "df_raw"
   ]
  },
  {
   "cell_type": "code",
   "execution_count": null,
   "metadata": {},
   "outputs": [],
   "source": [
    "df_raw, df_norm = rna_seq_files_processing(BRCA_RAW_FILES_DIRS['basal'])"
   ]
  },
  {
   "cell_type": "code",
   "execution_count": null,
   "metadata": {},
   "outputs": [],
   "source": [
    "df_raw"
   ]
  },
  {
   "cell_type": "code",
   "execution_count": null,
   "metadata": {},
   "outputs": [],
   "source": [
    "df_norm"
   ]
  },
  {
   "cell_type": "code",
   "execution_count": null,
   "metadata": {},
   "outputs": [],
   "source": [
    "# Process Basal-like related miRNA-Seq and RNA-Seq files\n",
    "df_mir_basal_reads, df_rna_basal_reads = files_processing(\n",
    "    files_path=BRCA_RAW_FILES_DIRS['basal'], files_prefix='basal-like'\n",
    ")"
   ]
  },
  {
   "cell_type": "code",
   "execution_count": null,
   "metadata": {},
   "outputs": [],
   "source": [
    "# Print the DataFrame of processed Basal-like microRNA reads\n",
    "df_mir_basal_reads"
   ]
  },
  {
   "cell_type": "code",
   "execution_count": null,
   "metadata": {},
   "outputs": [],
   "source": [
    "# Print the DataFrame of processed Basal-like gene reads\n",
    "df_rna_basal_reads"
   ]
  },
  {
   "cell_type": "markdown",
   "metadata": {},
   "source": [
    "## HER2-enriched"
   ]
  },
  {
   "cell_type": "code",
   "execution_count": null,
   "metadata": {},
   "outputs": [],
   "source": [
    "# Process HER2-enriched related miRNA-Seq and RNA-Seq files\n",
    "df_mir_her2_reads, df_rna_her2_reads = files_processing(\n",
    "    files_path=BRCA_RAW_FILES_DIRS['her2'], files_prefix='her2-enriched'\n",
    ")"
   ]
  },
  {
   "cell_type": "code",
   "execution_count": null,
   "metadata": {},
   "outputs": [],
   "source": [
    "# Print the DataFrame of processed HER2-enriched microRNA reads\n",
    "df_mir_her2_reads"
   ]
  },
  {
   "cell_type": "code",
   "execution_count": null,
   "metadata": {},
   "outputs": [],
   "source": [
    "# Print the DataFrame of processed HER2-enriched gene reads\n",
    "df_rna_her2_reads"
   ]
  },
  {
   "cell_type": "markdown",
   "metadata": {},
   "source": [
    "## Luminal A"
   ]
  },
  {
   "cell_type": "code",
   "execution_count": null,
   "metadata": {},
   "outputs": [],
   "source": [
    "# Process Luminal A related miRNA-Seq and RNA-Seq files\n",
    "df_mir_luma_reads, df_rna_luma_reads = files_processing(\n",
    "    files_path=BRCA_RAW_FILES_DIRS['lum_a'], files_prefix='luminal-a'\n",
    ")"
   ]
  },
  {
   "cell_type": "code",
   "execution_count": null,
   "metadata": {},
   "outputs": [],
   "source": [
    "# Print the DataFrame of processed Luminal A microRNA reads\n",
    "df_mir_luma_reads"
   ]
  },
  {
   "cell_type": "code",
   "execution_count": null,
   "metadata": {},
   "outputs": [],
   "source": [
    "# Print the DataFrame of processed Luminal A gene reads\n",
    "df_rna_luma_reads"
   ]
  },
  {
   "cell_type": "markdown",
   "metadata": {},
   "source": [
    "## Luminal B"
   ]
  },
  {
   "cell_type": "code",
   "execution_count": null,
   "metadata": {},
   "outputs": [],
   "source": [
    "# Process Luminal B related miRNA-Seq and RNA-Seq files\n",
    "df_mir_lumb_reads, df_rna_lumb_reads = files_processing(\n",
    "    files_path=BRCA_RAW_FILES_DIRS['lum_b'], files_prefix='luminal-b'\n",
    ")"
   ]
  },
  {
   "cell_type": "code",
   "execution_count": null,
   "metadata": {},
   "outputs": [],
   "source": [
    "# Print the DataFrame of processed Luminal A microRNA reads\n",
    "df_mir_luma_reads"
   ]
  },
  {
   "cell_type": "code",
   "execution_count": null,
   "metadata": {},
   "outputs": [],
   "source": [
    "# Print the DataFrame of processed Luminal B gene reads\n",
    "df_rna_lumb_reads"
   ]
  },
  {
   "cell_type": "markdown",
   "metadata": {},
   "source": [
    "# Normal Tissue Analysis Files"
   ]
  },
  {
   "cell_type": "code",
   "execution_count": null,
   "metadata": {},
   "outputs": [],
   "source": [
    "# Process normal tissue related miRNA-Seq and RNA-Seq files\n",
    "df_mir_normal_reads, df_rna_normal_reads = files_processing(\n",
    "    files_path=BRCA_RAW_FILES_DIRS['normal'], files_prefix='normal-tissue'\n",
    ")"
   ]
  },
  {
   "cell_type": "code",
   "execution_count": null,
   "metadata": {},
   "outputs": [],
   "source": [
    "# Print the DataFrame of processed normal tissue microRNA reads\n",
    "df_mir_normal_reads"
   ]
  },
  {
   "cell_type": "code",
   "execution_count": null,
   "metadata": {},
   "outputs": [],
   "source": [
    "# Print the DataFrame of processed normal tissue gene reads\n",
    "df_rna_normal_reads"
   ]
  }
 ],
 "metadata": {
  "kernelspec": {
   "display_name": "Python 3",
   "language": "python",
   "name": "python3"
  },
  "language_info": {
   "codemirror_mode": {
    "name": "ipython",
    "version": 3
   },
   "file_extension": ".py",
   "mimetype": "text/x-python",
   "name": "python",
   "nbconvert_exporter": "python",
   "pygments_lexer": "ipython3",
   "version": "3.8.10"
  }
 },
 "nbformat": 4,
 "nbformat_minor": 2
}
