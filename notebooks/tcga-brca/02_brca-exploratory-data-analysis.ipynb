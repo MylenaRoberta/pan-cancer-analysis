{
 "cells": [
  {
   "cell_type": "markdown",
   "metadata": {},
   "source": [
    "# **Exploratory Data Analysis of TCGA-BRCA Project**\n",
    "TCGA: The Cancer Genome Atlas"
   ]
  },
  {
   "cell_type": "markdown",
   "metadata": {},
   "source": [
    "# Importing Libraries"
   ]
  },
  {
   "cell_type": "code",
   "execution_count": 1,
   "metadata": {},
   "outputs": [],
   "source": [
    "import pandas as pd"
   ]
  },
  {
   "cell_type": "markdown",
   "metadata": {},
   "source": [
    "# Constants and Paths"
   ]
  },
  {
   "cell_type": "code",
   "execution_count": 2,
   "metadata": {},
   "outputs": [],
   "source": [
    "# Interim data folder path\n",
    "INTERIM_DATA_PATH = '../../data/interim/tcga-brca'"
   ]
  },
  {
   "cell_type": "markdown",
   "metadata": {},
   "source": [
    "# Loading and Preparing Data"
   ]
  },
  {
   "cell_type": "code",
   "execution_count": 3,
   "metadata": {},
   "outputs": [],
   "source": [
    "# DataFrame with the cases of interest with tumor tissue analysis\n",
    "df_tumor_cases = pd.read_csv(\n",
    "    f'{INTERIM_DATA_PATH}/brca-api-cases-tumor-analysis.csv'\n",
    ")\n",
    "\n",
    "# DataFrame with the cases of interest with normal tissue analysis\n",
    "df_normal_cases = pd.read_csv(\n",
    "    f'{INTERIM_DATA_PATH}/brca-api-cases-normal-analysis.csv'\n",
    ")\n",
    "\n",
    "# DataFrame with the files of interest associated with tumor tissue analysis\n",
    "df_tumor_files = pd.read_csv(\n",
    "    f'{INTERIM_DATA_PATH}/brca-api-files-tumor-analysis.csv'\n",
    ")\n",
    "\n",
    "# DataFrame with the files of interest associated with normal tissue analysis\n",
    "df_normal_files = pd.read_csv(\n",
    "    f'{INTERIM_DATA_PATH}/brca-api-files-normal-analysis.csv'\n",
    ")"
   ]
  },
  {
   "cell_type": "code",
   "execution_count": 4,
   "metadata": {},
   "outputs": [],
   "source": [
    "# DataFrame with cases and files associated with tumor tissue analysis\n",
    "df_tumor_data = df_tumor_cases \\\n",
    "    .merge(\n",
    "        right=df_tumor_files,\n",
    "        left_on='case_id',\n",
    "        right_on='case_id',\n",
    "        how='inner'\n",
    "    ) \\\n",
    "    .drop(columns=['files', 'tissue_type', 'sample_type'])\n",
    "\n",
    "# DataFrame with cases and files associated with normal tissue analysis\n",
    "df_normal_data = df_normal_cases \\\n",
    "    .merge(\n",
    "        right=df_normal_files,\n",
    "        left_on='case_id',\n",
    "        right_on='case_id',\n",
    "        how='inner'\n",
    "    ) \\\n",
    "    .drop(columns=['files', 'tissue_type', 'sample_type'])\n",
    "\n",
    "# DataFrame that concatenates all cases associated with BRCA\n",
    "df_cases = pd.concat([df_tumor_cases, df_normal_cases]) \\\n",
    "    .drop_duplicates('case_id') \\\n",
    "    .reset_index(drop=True)\n",
    "\n",
    "# DataFrame that concatenates all files associated with BRCA\n",
    "df_files = pd.concat([df_tumor_files, df_normal_files]) \\\n",
    "    .drop_duplicates('case_id') \\\n",
    "    .reset_index(drop=True)"
   ]
  },
  {
   "cell_type": "markdown",
   "metadata": {},
   "source": [
    "# Tumor Tissue"
   ]
  },
  {
   "cell_type": "code",
   "execution_count": 5,
   "metadata": {},
   "outputs": [
    {
     "name": "stdout",
     "output_type": "stream",
     "text": [
      "Total number of cases: 495\n",
      "Total number of files: 990\n"
     ]
    }
   ],
   "source": [
    "# Print the total number of tumor related cases and files\n",
    "print(\n",
    "    f'Total number of cases: {df_tumor_cases.shape[0]}\\n'\n",
    "    + f'Total number of files: {df_tumor_files.shape[0]}'\n",
    ")"
   ]
  },
  {
   "cell_type": "markdown",
   "metadata": {},
   "source": [
    "## Cases"
   ]
  },
  {
   "cell_type": "code",
   "execution_count": 6,
   "metadata": {},
   "outputs": [
    {
     "data": {
      "text/html": [
       "<div>\n",
       "<style scoped>\n",
       "    .dataframe tbody tr th:only-of-type {\n",
       "        vertical-align: middle;\n",
       "    }\n",
       "\n",
       "    .dataframe tbody tr th {\n",
       "        vertical-align: top;\n",
       "    }\n",
       "\n",
       "    .dataframe thead th {\n",
       "        text-align: right;\n",
       "    }\n",
       "</style>\n",
       "<table border=\"1\" class=\"dataframe\">\n",
       "  <thead>\n",
       "    <tr style=\"text-align: right;\">\n",
       "      <th></th>\n",
       "      <th>case_count</th>\n",
       "    </tr>\n",
       "    <tr>\n",
       "      <th>disease_type</th>\n",
       "      <th></th>\n",
       "    </tr>\n",
       "  </thead>\n",
       "  <tbody>\n",
       "    <tr>\n",
       "      <th>Ductal and Lobular Neoplasms</th>\n",
       "      <td>486</td>\n",
       "    </tr>\n",
       "    <tr>\n",
       "      <th>Complex Epithelial Neoplasms</th>\n",
       "      <td>2</td>\n",
       "    </tr>\n",
       "    <tr>\n",
       "      <th>Cystic, Mucinous and Serous Neoplasms</th>\n",
       "      <td>2</td>\n",
       "    </tr>\n",
       "    <tr>\n",
       "      <th>Epithelial Neoplasms, NOS</th>\n",
       "      <td>2</td>\n",
       "    </tr>\n",
       "    <tr>\n",
       "      <th>Adenomas and Adenocarcinomas</th>\n",
       "      <td>1</td>\n",
       "    </tr>\n",
       "    <tr>\n",
       "      <th>Adnexal and Skin Appendage Neoplasms</th>\n",
       "      <td>1</td>\n",
       "    </tr>\n",
       "    <tr>\n",
       "      <th>Squamous Cell Neoplasms</th>\n",
       "      <td>1</td>\n",
       "    </tr>\n",
       "  </tbody>\n",
       "</table>\n",
       "</div>"
      ],
      "text/plain": [
       "                                       case_count\n",
       "disease_type                                     \n",
       "Ductal and Lobular Neoplasms                  486\n",
       "Complex Epithelial Neoplasms                    2\n",
       "Cystic, Mucinous and Serous Neoplasms           2\n",
       "Epithelial Neoplasms, NOS                       2\n",
       "Adenomas and Adenocarcinomas                    1\n",
       "Adnexal and Skin Appendage Neoplasms            1\n",
       "Squamous Cell Neoplasms                         1"
      ]
     },
     "execution_count": 6,
     "metadata": {},
     "output_type": "execute_result"
    }
   ],
   "source": [
    "# Count the total number of disease types associated with cases\n",
    "df_tumor_cases \\\n",
    "    .groupby('disease_type') \\\n",
    "    .agg(case_count = pd.NamedAgg(column='case_id', aggfunc='nunique')) \\\n",
    "    .sort_values(by='case_count', ascending=False)"
   ]
  },
  {
   "cell_type": "code",
   "execution_count": 7,
   "metadata": {},
   "outputs": [
    {
     "data": {
      "text/html": [
       "<div>\n",
       "<style scoped>\n",
       "    .dataframe tbody tr th:only-of-type {\n",
       "        vertical-align: middle;\n",
       "    }\n",
       "\n",
       "    .dataframe tbody tr th {\n",
       "        vertical-align: top;\n",
       "    }\n",
       "\n",
       "    .dataframe thead th {\n",
       "        text-align: right;\n",
       "    }\n",
       "</style>\n",
       "<table border=\"1\" class=\"dataframe\">\n",
       "  <thead>\n",
       "    <tr style=\"text-align: right;\">\n",
       "      <th></th>\n",
       "      <th>case_count</th>\n",
       "    </tr>\n",
       "    <tr>\n",
       "      <th>pam50_mrna</th>\n",
       "      <th></th>\n",
       "    </tr>\n",
       "  </thead>\n",
       "  <tbody>\n",
       "    <tr>\n",
       "      <th>Luminal A</th>\n",
       "      <td>226</td>\n",
       "    </tr>\n",
       "    <tr>\n",
       "      <th>Luminal B</th>\n",
       "      <td>122</td>\n",
       "    </tr>\n",
       "    <tr>\n",
       "      <th>Basal-like</th>\n",
       "      <td>90</td>\n",
       "    </tr>\n",
       "    <tr>\n",
       "      <th>HER2-enriched</th>\n",
       "      <td>57</td>\n",
       "    </tr>\n",
       "  </tbody>\n",
       "</table>\n",
       "</div>"
      ],
      "text/plain": [
       "               case_count\n",
       "pam50_mrna               \n",
       "Luminal A             226\n",
       "Luminal B             122\n",
       "Basal-like             90\n",
       "HER2-enriched          57"
      ]
     },
     "execution_count": 7,
     "metadata": {},
     "output_type": "execute_result"
    }
   ],
   "source": [
    "# Count the total number of molecular subtypes associated with cases\n",
    "df_tumor_cases \\\n",
    "    .groupby('pam50_mrna') \\\n",
    "    .agg(case_count = pd.NamedAgg(column='case_id', aggfunc='nunique')) \\\n",
    "    .sort_values(by='case_count', ascending=False)"
   ]
  },
  {
   "cell_type": "code",
   "execution_count": 8,
   "metadata": {},
   "outputs": [
    {
     "data": {
      "text/html": [
       "<div>\n",
       "<style scoped>\n",
       "    .dataframe tbody tr th:only-of-type {\n",
       "        vertical-align: middle;\n",
       "    }\n",
       "\n",
       "    .dataframe tbody tr th {\n",
       "        vertical-align: top;\n",
       "    }\n",
       "\n",
       "    .dataframe thead th {\n",
       "        text-align: right;\n",
       "    }\n",
       "</style>\n",
       "<table border=\"1\" class=\"dataframe\">\n",
       "  <thead>\n",
       "    <tr style=\"text-align: right;\">\n",
       "      <th></th>\n",
       "      <th></th>\n",
       "      <th>case_count</th>\n",
       "    </tr>\n",
       "    <tr>\n",
       "      <th>pam50_mrna</th>\n",
       "      <th>disease_type</th>\n",
       "      <th></th>\n",
       "    </tr>\n",
       "  </thead>\n",
       "  <tbody>\n",
       "    <tr>\n",
       "      <th>Luminal A</th>\n",
       "      <th>Ductal and Lobular Neoplasms</th>\n",
       "      <td>223</td>\n",
       "    </tr>\n",
       "    <tr>\n",
       "      <th>Luminal B</th>\n",
       "      <th>Ductal and Lobular Neoplasms</th>\n",
       "      <td>120</td>\n",
       "    </tr>\n",
       "    <tr>\n",
       "      <th>Basal-like</th>\n",
       "      <th>Ductal and Lobular Neoplasms</th>\n",
       "      <td>87</td>\n",
       "    </tr>\n",
       "    <tr>\n",
       "      <th>HER2-enriched</th>\n",
       "      <th>Ductal and Lobular Neoplasms</th>\n",
       "      <td>56</td>\n",
       "    </tr>\n",
       "    <tr>\n",
       "      <th>Basal-like</th>\n",
       "      <th>Complex Epithelial Neoplasms</th>\n",
       "      <td>2</td>\n",
       "    </tr>\n",
       "    <tr>\n",
       "      <th>Luminal B</th>\n",
       "      <th>Cystic, Mucinous and Serous Neoplasms</th>\n",
       "      <td>2</td>\n",
       "    </tr>\n",
       "    <tr>\n",
       "      <th>Basal-like</th>\n",
       "      <th>Epithelial Neoplasms, NOS</th>\n",
       "      <td>1</td>\n",
       "    </tr>\n",
       "    <tr>\n",
       "      <th>HER2-enriched</th>\n",
       "      <th>Adnexal and Skin Appendage Neoplasms</th>\n",
       "      <td>1</td>\n",
       "    </tr>\n",
       "    <tr>\n",
       "      <th rowspan=\"3\" valign=\"top\">Luminal A</th>\n",
       "      <th>Adenomas and Adenocarcinomas</th>\n",
       "      <td>1</td>\n",
       "    </tr>\n",
       "    <tr>\n",
       "      <th>Epithelial Neoplasms, NOS</th>\n",
       "      <td>1</td>\n",
       "    </tr>\n",
       "    <tr>\n",
       "      <th>Squamous Cell Neoplasms</th>\n",
       "      <td>1</td>\n",
       "    </tr>\n",
       "  </tbody>\n",
       "</table>\n",
       "</div>"
      ],
      "text/plain": [
       "                                                     case_count\n",
       "pam50_mrna    disease_type                                     \n",
       "Luminal A     Ductal and Lobular Neoplasms                  223\n",
       "Luminal B     Ductal and Lobular Neoplasms                  120\n",
       "Basal-like    Ductal and Lobular Neoplasms                   87\n",
       "HER2-enriched Ductal and Lobular Neoplasms                   56\n",
       "Basal-like    Complex Epithelial Neoplasms                    2\n",
       "Luminal B     Cystic, Mucinous and Serous Neoplasms           2\n",
       "Basal-like    Epithelial Neoplasms, NOS                       1\n",
       "HER2-enriched Adnexal and Skin Appendage Neoplasms            1\n",
       "Luminal A     Adenomas and Adenocarcinomas                    1\n",
       "              Epithelial Neoplasms, NOS                       1\n",
       "              Squamous Cell Neoplasms                         1"
      ]
     },
     "execution_count": 8,
     "metadata": {},
     "output_type": "execute_result"
    }
   ],
   "source": [
    "# Count the total number of molecular subtypes and disease types associated with cases\n",
    "df_tumor_cases \\\n",
    "    .groupby(['pam50_mrna', 'disease_type']) \\\n",
    "    .agg(case_count = pd.NamedAgg(column='case_id', aggfunc='nunique')) \\\n",
    "    .sort_values(by='case_count', ascending=False)"
   ]
  },
  {
   "cell_type": "markdown",
   "metadata": {},
   "source": [
    "## Files"
   ]
  },
  {
   "cell_type": "code",
   "execution_count": 9,
   "metadata": {},
   "outputs": [
    {
     "data": {
      "text/html": [
       "<div>\n",
       "<style scoped>\n",
       "    .dataframe tbody tr th:only-of-type {\n",
       "        vertical-align: middle;\n",
       "    }\n",
       "\n",
       "    .dataframe tbody tr th {\n",
       "        vertical-align: top;\n",
       "    }\n",
       "\n",
       "    .dataframe thead th {\n",
       "        text-align: right;\n",
       "    }\n",
       "</style>\n",
       "<table border=\"1\" class=\"dataframe\">\n",
       "  <thead>\n",
       "    <tr style=\"text-align: right;\">\n",
       "      <th></th>\n",
       "      <th></th>\n",
       "      <th></th>\n",
       "      <th>file_count</th>\n",
       "    </tr>\n",
       "    <tr>\n",
       "      <th>experimental_strategy</th>\n",
       "      <th>data_type</th>\n",
       "      <th>data_format</th>\n",
       "      <th></th>\n",
       "    </tr>\n",
       "  </thead>\n",
       "  <tbody>\n",
       "    <tr>\n",
       "      <th>RNA-Seq</th>\n",
       "      <th>Gene Expression Quantification</th>\n",
       "      <th>TSV</th>\n",
       "      <td>495</td>\n",
       "    </tr>\n",
       "    <tr>\n",
       "      <th>miRNA-Seq</th>\n",
       "      <th>miRNA Expression Quantification</th>\n",
       "      <th>TXT</th>\n",
       "      <td>495</td>\n",
       "    </tr>\n",
       "  </tbody>\n",
       "</table>\n",
       "</div>"
      ],
      "text/plain": [
       "                                                                   file_count\n",
       "experimental_strategy data_type                       data_format            \n",
       "RNA-Seq               Gene Expression Quantification  TSV                 495\n",
       "miRNA-Seq             miRNA Expression Quantification TXT                 495"
      ]
     },
     "execution_count": 9,
     "metadata": {},
     "output_type": "execute_result"
    }
   ],
   "source": [
    "# Count the total number of data formats associated with cases\n",
    "df_tumor_files \\\n",
    "    .groupby(['experimental_strategy', 'data_type', 'data_format']) \\\n",
    "    .agg(file_count = pd.NamedAgg(column='file_id', aggfunc='nunique')) \\\n",
    "    .sort_values(by='file_count', ascending=False)"
   ]
  },
  {
   "cell_type": "markdown",
   "metadata": {},
   "source": [
    "# Normal Tissue"
   ]
  },
  {
   "cell_type": "markdown",
   "metadata": {},
   "source": [
    "## Cases"
   ]
  },
  {
   "cell_type": "code",
   "execution_count": 10,
   "metadata": {},
   "outputs": [
    {
     "data": {
      "text/html": [
       "<div>\n",
       "<style scoped>\n",
       "    .dataframe tbody tr th:only-of-type {\n",
       "        vertical-align: middle;\n",
       "    }\n",
       "\n",
       "    .dataframe tbody tr th {\n",
       "        vertical-align: top;\n",
       "    }\n",
       "\n",
       "    .dataframe thead th {\n",
       "        text-align: right;\n",
       "    }\n",
       "</style>\n",
       "<table border=\"1\" class=\"dataframe\">\n",
       "  <thead>\n",
       "    <tr style=\"text-align: right;\">\n",
       "      <th></th>\n",
       "      <th>case_count</th>\n",
       "    </tr>\n",
       "    <tr>\n",
       "      <th>disease_type</th>\n",
       "      <th></th>\n",
       "    </tr>\n",
       "  </thead>\n",
       "  <tbody>\n",
       "    <tr>\n",
       "      <th>Ductal and Lobular Neoplasms</th>\n",
       "      <td>56</td>\n",
       "    </tr>\n",
       "    <tr>\n",
       "      <th>Complex Epithelial Neoplasms</th>\n",
       "      <td>1</td>\n",
       "    </tr>\n",
       "  </tbody>\n",
       "</table>\n",
       "</div>"
      ],
      "text/plain": [
       "                              case_count\n",
       "disease_type                            \n",
       "Ductal and Lobular Neoplasms          56\n",
       "Complex Epithelial Neoplasms           1"
      ]
     },
     "execution_count": 10,
     "metadata": {},
     "output_type": "execute_result"
    }
   ],
   "source": [
    "# Count the total number of disease types associated with cases\n",
    "df_normal_cases \\\n",
    "    .groupby('disease_type') \\\n",
    "    .agg(case_count = pd.NamedAgg(column='case_id', aggfunc='nunique')) \\\n",
    "    .sort_values(by='case_count', ascending=False)"
   ]
  },
  {
   "cell_type": "code",
   "execution_count": 11,
   "metadata": {},
   "outputs": [
    {
     "data": {
      "text/html": [
       "<div>\n",
       "<style scoped>\n",
       "    .dataframe tbody tr th:only-of-type {\n",
       "        vertical-align: middle;\n",
       "    }\n",
       "\n",
       "    .dataframe tbody tr th {\n",
       "        vertical-align: top;\n",
       "    }\n",
       "\n",
       "    .dataframe thead th {\n",
       "        text-align: right;\n",
       "    }\n",
       "</style>\n",
       "<table border=\"1\" class=\"dataframe\">\n",
       "  <thead>\n",
       "    <tr style=\"text-align: right;\">\n",
       "      <th></th>\n",
       "      <th>case_count</th>\n",
       "    </tr>\n",
       "    <tr>\n",
       "      <th>pam50_mrna</th>\n",
       "      <th></th>\n",
       "    </tr>\n",
       "  </thead>\n",
       "  <tbody>\n",
       "    <tr>\n",
       "      <th>Luminal A</th>\n",
       "      <td>29</td>\n",
       "    </tr>\n",
       "    <tr>\n",
       "      <th>Luminal B</th>\n",
       "      <td>14</td>\n",
       "    </tr>\n",
       "    <tr>\n",
       "      <th>Basal-like</th>\n",
       "      <td>9</td>\n",
       "    </tr>\n",
       "    <tr>\n",
       "      <th>HER2-enriched</th>\n",
       "      <td>5</td>\n",
       "    </tr>\n",
       "  </tbody>\n",
       "</table>\n",
       "</div>"
      ],
      "text/plain": [
       "               case_count\n",
       "pam50_mrna               \n",
       "Luminal A              29\n",
       "Luminal B              14\n",
       "Basal-like              9\n",
       "HER2-enriched           5"
      ]
     },
     "execution_count": 11,
     "metadata": {},
     "output_type": "execute_result"
    }
   ],
   "source": [
    "# Count the total number of molecular subtypes associated with cases\n",
    "df_normal_cases \\\n",
    "    .groupby('pam50_mrna') \\\n",
    "    .agg(case_count = pd.NamedAgg(column='case_id', aggfunc='nunique')) \\\n",
    "    .sort_values(by='case_count', ascending=False)"
   ]
  },
  {
   "cell_type": "code",
   "execution_count": 12,
   "metadata": {},
   "outputs": [
    {
     "data": {
      "text/html": [
       "<div>\n",
       "<style scoped>\n",
       "    .dataframe tbody tr th:only-of-type {\n",
       "        vertical-align: middle;\n",
       "    }\n",
       "\n",
       "    .dataframe tbody tr th {\n",
       "        vertical-align: top;\n",
       "    }\n",
       "\n",
       "    .dataframe thead th {\n",
       "        text-align: right;\n",
       "    }\n",
       "</style>\n",
       "<table border=\"1\" class=\"dataframe\">\n",
       "  <thead>\n",
       "    <tr style=\"text-align: right;\">\n",
       "      <th></th>\n",
       "      <th></th>\n",
       "      <th>case_count</th>\n",
       "    </tr>\n",
       "    <tr>\n",
       "      <th>pam50_mrna</th>\n",
       "      <th>disease_type</th>\n",
       "      <th></th>\n",
       "    </tr>\n",
       "  </thead>\n",
       "  <tbody>\n",
       "    <tr>\n",
       "      <th>Luminal A</th>\n",
       "      <th>Ductal and Lobular Neoplasms</th>\n",
       "      <td>29</td>\n",
       "    </tr>\n",
       "    <tr>\n",
       "      <th>Luminal B</th>\n",
       "      <th>Ductal and Lobular Neoplasms</th>\n",
       "      <td>14</td>\n",
       "    </tr>\n",
       "    <tr>\n",
       "      <th>Basal-like</th>\n",
       "      <th>Ductal and Lobular Neoplasms</th>\n",
       "      <td>8</td>\n",
       "    </tr>\n",
       "    <tr>\n",
       "      <th>HER2-enriched</th>\n",
       "      <th>Ductal and Lobular Neoplasms</th>\n",
       "      <td>5</td>\n",
       "    </tr>\n",
       "    <tr>\n",
       "      <th>Basal-like</th>\n",
       "      <th>Complex Epithelial Neoplasms</th>\n",
       "      <td>1</td>\n",
       "    </tr>\n",
       "  </tbody>\n",
       "</table>\n",
       "</div>"
      ],
      "text/plain": [
       "                                            case_count\n",
       "pam50_mrna    disease_type                            \n",
       "Luminal A     Ductal and Lobular Neoplasms          29\n",
       "Luminal B     Ductal and Lobular Neoplasms          14\n",
       "Basal-like    Ductal and Lobular Neoplasms           8\n",
       "HER2-enriched Ductal and Lobular Neoplasms           5\n",
       "Basal-like    Complex Epithelial Neoplasms           1"
      ]
     },
     "execution_count": 12,
     "metadata": {},
     "output_type": "execute_result"
    }
   ],
   "source": [
    "# Count the total number of molecular subtypes and disease types associated with cases\n",
    "df_normal_cases \\\n",
    "    .groupby(['pam50_mrna', 'disease_type']) \\\n",
    "    .agg(case_count = pd.NamedAgg(column='case_id', aggfunc='nunique')) \\\n",
    "    .sort_values(by='case_count', ascending=False)"
   ]
  },
  {
   "cell_type": "markdown",
   "metadata": {},
   "source": [
    "## Files"
   ]
  },
  {
   "cell_type": "code",
   "execution_count": 13,
   "metadata": {},
   "outputs": [
    {
     "data": {
      "text/html": [
       "<div>\n",
       "<style scoped>\n",
       "    .dataframe tbody tr th:only-of-type {\n",
       "        vertical-align: middle;\n",
       "    }\n",
       "\n",
       "    .dataframe tbody tr th {\n",
       "        vertical-align: top;\n",
       "    }\n",
       "\n",
       "    .dataframe thead th {\n",
       "        text-align: right;\n",
       "    }\n",
       "</style>\n",
       "<table border=\"1\" class=\"dataframe\">\n",
       "  <thead>\n",
       "    <tr style=\"text-align: right;\">\n",
       "      <th></th>\n",
       "      <th></th>\n",
       "      <th></th>\n",
       "      <th>file_count</th>\n",
       "    </tr>\n",
       "    <tr>\n",
       "      <th>experimental_strategy</th>\n",
       "      <th>data_type</th>\n",
       "      <th>data_format</th>\n",
       "      <th></th>\n",
       "    </tr>\n",
       "  </thead>\n",
       "  <tbody>\n",
       "    <tr>\n",
       "      <th>RNA-Seq</th>\n",
       "      <th>Gene Expression Quantification</th>\n",
       "      <th>TSV</th>\n",
       "      <td>57</td>\n",
       "    </tr>\n",
       "    <tr>\n",
       "      <th>miRNA-Seq</th>\n",
       "      <th>miRNA Expression Quantification</th>\n",
       "      <th>TXT</th>\n",
       "      <td>57</td>\n",
       "    </tr>\n",
       "  </tbody>\n",
       "</table>\n",
       "</div>"
      ],
      "text/plain": [
       "                                                                   file_count\n",
       "experimental_strategy data_type                       data_format            \n",
       "RNA-Seq               Gene Expression Quantification  TSV                  57\n",
       "miRNA-Seq             miRNA Expression Quantification TXT                  57"
      ]
     },
     "execution_count": 13,
     "metadata": {},
     "output_type": "execute_result"
    }
   ],
   "source": [
    "# Count the total number of data formats associated with files\n",
    "df_normal_files \\\n",
    "    .groupby(['experimental_strategy', 'data_type', 'data_format']) \\\n",
    "    .agg(file_count = pd.NamedAgg(column='file_id', aggfunc='nunique')) \\\n",
    "    .sort_values(by='file_count', ascending=False)"
   ]
  }
 ],
 "metadata": {
  "kernelspec": {
   "display_name": "Python 3",
   "language": "python",
   "name": "python3"
  },
  "language_info": {
   "codemirror_mode": {
    "name": "ipython",
    "version": 3
   },
   "file_extension": ".py",
   "mimetype": "text/x-python",
   "name": "python",
   "nbconvert_exporter": "python",
   "pygments_lexer": "ipython3",
   "version": "3.8.10"
  }
 },
 "nbformat": 4,
 "nbformat_minor": 2
}
