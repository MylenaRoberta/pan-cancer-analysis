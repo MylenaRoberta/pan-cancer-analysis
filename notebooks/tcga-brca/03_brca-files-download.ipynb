{
 "cells": [
  {
   "cell_type": "markdown",
   "metadata": {},
   "source": [
    "# **Downloading Files of Interest from TCGA-BRCA**\n",
    "TCGA: The Cancer Genome Atlas"
   ]
  },
  {
   "cell_type": "markdown",
   "metadata": {},
   "source": [
    "# Importing Libraries"
   ]
  },
  {
   "cell_type": "code",
   "execution_count": 1,
   "metadata": {},
   "outputs": [],
   "source": [
    "import json\n",
    "import os\n",
    "\n",
    "import pandas as pd\n",
    "import requests"
   ]
  },
  {
   "cell_type": "markdown",
   "metadata": {},
   "source": [
    "# Constant and Path"
   ]
  },
  {
   "cell_type": "code",
   "execution_count": 2,
   "metadata": {},
   "outputs": [],
   "source": [
    "# Endpoint for files download\n",
    "DATA_ENDPOINT = 'https://api.gdc.cancer.gov/data'\n",
    "\n",
    "# Data folder path\n",
    "DATA_FOLDER = '../../data'\n",
    "\n",
    "# External data folder path\n",
    "EXTERNAL_DATA_PATH = f'{DATA_FOLDER}/external/tcga-brca'\n",
    "\n",
    "# Interim data folder path\n",
    "INTERIM_DATA_PATH = f'{DATA_FOLDER}/interim/tcga-brca'"
   ]
  },
  {
   "cell_type": "markdown",
   "metadata": {},
   "source": [
    "# Function"
   ]
  },
  {
   "cell_type": "code",
   "execution_count": null,
   "metadata": {},
   "outputs": [],
   "source": [
    "def gdc_api_files_download(files, path):\n",
    "    \"\"\"\n",
    "    Downloads files from the GDC (Genomic Data Commons) API and saves them locally.\n",
    "\n",
    "    Parameters:\n",
    "    -----------\n",
    "    files : list of dict\n",
    "        A list of dictionaries where each dictionary contains metadata for a file. \n",
    "        Expected keys in each dictionary:\n",
    "        - 'file_id' (str): Unique identifier for the file.\n",
    "        - 'experimental_strategy' (str): Description of the experiment type.\n",
    "        - 'data_format' (str): File format (e.g., 'TXT', 'CSV').\n",
    "    path : str\n",
    "        The local directory where downloaded files will be saved.\n",
    "    \"\"\"\n",
    "    # Download each file and save it using file metadata\n",
    "    for file in files:\n",
    "        # Important file metadata\n",
    "        file_id = file['file_id']\n",
    "        file_type = file['experimental_strategy'].lower()\n",
    "        file_format = file['data_format'].lower()\n",
    "\n",
    "        # Request the object of interest to the endpoint\n",
    "        response = requests.get(\n",
    "            url=f'{DATA_ENDPOINT}/{file_id}',\n",
    "            headers={'Content-Type': 'application/json'}\n",
    "        )\n",
    "\n",
    "        # Write the file in the external data folder\n",
    "        file_name = f'{file_type}_{file_id}.{file_format}'\n",
    "        file_path = os.path.join(path, file_name)\n",
    "        with open(file_path, 'wb') as output_file:\n",
    "            output_file.write(response.content)"
   ]
  },
  {
   "cell_type": "markdown",
   "metadata": {},
   "source": [
    "# Data Loading and Preparation"
   ]
  },
  {
   "cell_type": "code",
   "execution_count": null,
   "metadata": {},
   "outputs": [],
   "source": [
    "# DataFrame with the files of interest associated with normal tissue analysis\n",
    "df_normal_files = pd.read_csv(\n",
    "    f'{INTERIM_DATA_PATH}/brca-api-files-normal-analysis.csv'\n",
    ")\n",
    "\n",
    "# DataFrame with the cases of interest associated with tumor tissue analysis\n",
    "df_tumor_cases = pd.read_csv(\n",
    "    f'{INTERIM_DATA_PATH}/brca-api-cases-tumor-analysis.csv'\n",
    ")\n",
    "\n",
    "# DataFrame with the files of interest associated with tumor tissue analysis\n",
    "df_tumor_files = pd.read_csv(\n",
    "    f'{INTERIM_DATA_PATH}/brca-api-files-tumor-analysis.csv'\n",
    ")\n",
    "\n",
    "# DataFrame with cases and files associated with tumor tissue analysis\n",
    "df_tumor_cases_files = df_tumor_cases \\\n",
    "    .merge(\n",
    "        right=df_tumor_files,\n",
    "        left_on='case_id',\n",
    "        right_on='case_id',\n",
    "        how='inner'\n",
    "    ) \\\n",
    "    [['file_id', 'case_id', 'experimental_strategy', 'data_format', 'pam50_mrna']]"
   ]
  },
  {
   "cell_type": "markdown",
   "metadata": {},
   "source": [
    "# Tumor Tissue Analysis Files"
   ]
  },
  {
   "cell_type": "markdown",
   "metadata": {},
   "source": [
    "## Basal-like"
   ]
  },
  {
   "cell_type": "code",
   "execution_count": null,
   "metadata": {},
   "outputs": [],
   "source": [
    "# Filter files related to Basal-like subtype\n",
    "filter = 'Basal-like'\n",
    "files = df_tumor_cases_files \\\n",
    "    .query(f'pam50_mrna == \"{filter}\"') \\\n",
    "    [['file_id', 'experimental_strategy', 'data_format']] \\\n",
    "    .to_dict(orient='records')\n",
    "\n",
    "# Folder path to write files\n",
    "path = f'{EXTERNAL_DATA_PATH}/{filter.lower()}-files'\n",
    "\n",
    "# Download all files of interest related to the specific molecular subtype\n",
    "gdc_api_files_download(files, path)"
   ]
  },
  {
   "cell_type": "markdown",
   "metadata": {},
   "source": [
    "## HER2-enriched"
   ]
  },
  {
   "cell_type": "code",
   "execution_count": null,
   "metadata": {},
   "outputs": [],
   "source": [
    "# Filter files related to HER2-enriched subtype\n",
    "filter = 'HER2-enriched'\n",
    "files = df_tumor_cases_files \\\n",
    "    .query(f'pam50_mrna == \"{filter}\"') \\\n",
    "    [['file_id', 'experimental_strategy', 'data_format']] \\\n",
    "    .to_dict(orient='records')\n",
    "\n",
    "# Folder path to write files\n",
    "path = f'{EXTERNAL_DATA_PATH}/{filter.lower()}-files'\n",
    "\n",
    "# Download all files of interest related to the specific molecular subtype\n",
    "gdc_api_files_download(files, path)"
   ]
  },
  {
   "cell_type": "markdown",
   "metadata": {},
   "source": [
    "## Luminal A"
   ]
  },
  {
   "cell_type": "code",
   "execution_count": null,
   "metadata": {},
   "outputs": [],
   "source": [
    "# Filter files related to Luminal A subtype\n",
    "filter = 'Luminal A'\n",
    "files = df_tumor_cases_files \\\n",
    "    .query(f'pam50_mrna == \"{filter}\"') \\\n",
    "    [['file_id', 'experimental_strategy', 'data_format']] \\\n",
    "    .to_dict(orient='records')\n",
    "\n",
    "# Folder path to write files\n",
    "folder_name = (filter.replace(' ', '-')).lower()\n",
    "path = f'{EXTERNAL_DATA_PATH}/{folder_name}-files'\n",
    "\n",
    "# Download all files of interest related to the specific molecular subtype\n",
    "gdc_api_files_download(files, path)"
   ]
  },
  {
   "cell_type": "markdown",
   "metadata": {},
   "source": [
    "## Luminal B"
   ]
  },
  {
   "cell_type": "code",
   "execution_count": null,
   "metadata": {},
   "outputs": [],
   "source": [
    "# Filter files related to Luminal B subtype\n",
    "filter = 'Luminal B'\n",
    "files = df_tumor_cases_files \\\n",
    "    .query(f'pam50_mrna == \"{filter}\"') \\\n",
    "    [['file_id', 'experimental_strategy', 'data_format']] \\\n",
    "    .to_dict(orient='records')\n",
    "\n",
    "# Folder path to write files\n",
    "folder_name = (filter.replace(' ', '-')).lower()\n",
    "path = f'{EXTERNAL_DATA_PATH}/{folder_name}-files'\n",
    "\n",
    "# Download all files of interest related to the specific molecular subtype\n",
    "gdc_api_files_download(files, path)"
   ]
  },
  {
   "cell_type": "markdown",
   "metadata": {},
   "source": [
    "# Normal Tissue Analysis Files"
   ]
  },
  {
   "cell_type": "code",
   "execution_count": null,
   "metadata": {},
   "outputs": [],
   "source": [
    "# Filter files related to normal tissue\n",
    "files = df_normal_files \\\n",
    "    [['file_id', 'experimental_strategy', 'data_format']] \\\n",
    "    .to_dict(orient='records')\n",
    "\n",
    "# Folder path to write files\n",
    "path = f'{EXTERNAL_DATA_PATH}/normal-tissue-files'\n",
    "\n",
    "# Download all files of interest related to normal tissue\n",
    "gdc_api_files_download(files, path)"
   ]
  }
 ],
 "metadata": {
  "kernelspec": {
   "display_name": "Python 3",
   "language": "python",
   "name": "python3"
  },
  "language_info": {
   "codemirror_mode": {
    "name": "ipython",
    "version": 3
   },
   "file_extension": ".py",
   "mimetype": "text/x-python",
   "name": "python",
   "nbconvert_exporter": "python",
   "pygments_lexer": "ipython3",
   "version": "3.8.10"
  }
 },
 "nbformat": 4,
 "nbformat_minor": 2
}
